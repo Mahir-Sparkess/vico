{
  "nbformat": 4,
  "nbformat_minor": 0,
  "metadata": {
    "colab": {
      "provenance": []
    },
    "kernelspec": {
      "name": "python3",
      "display_name": "Python 3"
    },
    "language_info": {
      "name": "python"
    }
  },
  "cells": [
    {
      "cell_type": "code",
      "source": [
        "import numpy as np\n",
        "from scipy.spatial.transform import Rotation\n",
        "import cv2\n",
        "import math"
      ],
      "metadata": {
        "id": "r8y6tSNVOqth"
      },
      "execution_count": null,
      "outputs": []
    },
    {
      "cell_type": "markdown",
      "source": [
        "# Topic 1: Foundations\n"
      ],
      "metadata": {
        "id": "4Sx_NJOmNHPU"
      }
    },
    {
      "cell_type": "markdown",
      "source": [
        "## Transformations, Projections, Meshes\n"
      ],
      "metadata": {
        "id": "H9rXOec6eK0Q"
      }
    },
    {
      "cell_type": "markdown",
      "source": [
        "\n",
        "### Transformation Matrices\n",
        "\n",
        "\n"
      ],
      "metadata": {
        "id": "-iabB_6ZeRtT"
      }
    },
    {
      "cell_type": "code",
      "execution_count": null,
      "metadata": {
        "id": "Ujq4veLQNEjY"
      },
      "outputs": [],
      "source": [
        "# 2D Homogeneous Transformations\n",
        "\n",
        "def translation2D(x, y, dx, dy):\n",
        "  X = np.vstack((x, y, 1))\n",
        "  T = np.array([\n",
        "      [1, 0, dx],\n",
        "      [0, 1, dy],\n",
        "      [0, 0, 1]\n",
        "  ])\n",
        "  return T @ X\n",
        "\n",
        "def scaling2D(x, y, sx, sy):\n",
        "  X = np.vstack((x, y, 1))\n",
        "  T = np.array([\n",
        "      [sx, 0, 0],\n",
        "      [0, sy, 0],\n",
        "      [0, 0, 1]\n",
        "  ])\n",
        "  return T @ X\n",
        "\n",
        "def rotation2D(x, y, theta):\n",
        "  X = np.vstack((x, y, 1))\n",
        "  T = np.array([\n",
        "      [np.cos(theta), -np.sin(theta), 0],\n",
        "      [np.sin(theta), np.cos(theta), 0],\n",
        "      [0, 0, 1]\n",
        "  ])\n",
        "  return T @ X"
      ]
    },
    {
      "cell_type": "code",
      "source": [
        "# 3D Homogeneous Transformations\n",
        "\n",
        "def translation3D(x, y, z, dx, dy, dz):\n",
        "  X = np.vstack((x, y, z, 1))\n",
        "  T = np.array([\n",
        "      [1, 0, 0, dx],\n",
        "      [0, 1, 0, dy],\n",
        "      [0, 0, 1, dz],\n",
        "      [0, 0, 0, 1]\n",
        "  ])\n",
        "  return T @ X\n",
        "\n",
        "def scaling3D(x, y, z, sx, sy, sz):\n",
        "  X = np.vstack((x, y, z, 1))\n",
        "  T = np.array([\n",
        "      [sx, 0, 0, 0],\n",
        "      [0, sy, 0, 0],\n",
        "      [0, 0, sz, 0],\n",
        "      [0, 0, 0, 1]\n",
        "  ])\n",
        "  return T @ X\n",
        "\n",
        "def rotation3DX(x, y, z, theta):\n",
        "  X = np.vstack((x, y, z, 1))\n",
        "  T = np.array([\n",
        "      [1, 0, 0, 0],\n",
        "      [0, np.cos(theta), -np.sin(theta), 0],\n",
        "      [0, np.sin(theta), np.cos(theta), 0],\n",
        "      [0, 0, 0, 1]\n",
        "  ])\n",
        "  return T @ X\n",
        "\n",
        "def rotation3DY(x, y, z, theta):\n",
        "  X = np.vstack((x, y, z, 1))\n",
        "  T = np.array([\n",
        "      [np.cos(theta), 0, np.sin(theta), 0],\n",
        "      [0, 1, 0, 0],\n",
        "      [-np.sin(theta), 0, np.cos(theta), 0],\n",
        "      [0, 0, 0, 1]\n",
        "  ])\n",
        "  return T @ X\n",
        "\n",
        "def rotation3DZ(x, y, z, theta):\n",
        "  X = np.vstack((x, y, z, 1))\n",
        "  T = np.array([\n",
        "      [np.cos(theta), -np.sin(theta), 0, 0],\n",
        "      [np.sin(theta), np.cos(theta), 0, 0],\n",
        "      [0, 0, 1, 0],\n",
        "      [0, 0, 0, 1]\n",
        "  ])\n",
        "  return T @ X"
      ],
      "metadata": {
        "id": "kXCqCAv4QgJZ"
      },
      "execution_count": null,
      "outputs": []
    },
    {
      "cell_type": "markdown",
      "source": [
        "### Perspective Projection\n"
      ],
      "metadata": {
        "id": "xyoyOVGhSZxp"
      }
    },
    {
      "cell_type": "markdown",
      "source": [
        "\n",
        "- *x, y* : image coordinates\n",
        "- *u, v, w* : object coordinates\n",
        "- *U, V, W* : world coordinates\n",
        "- K = ⟨ f, c<sub>x</sub>, c<sub>y</sub> ⟩ : intrinsic parameters\n",
        "  - *f = sd* : focal length\n",
        "    - *d* : phyiscal focal length (mm)\n",
        "    - *s* : scale factor (pixels per mm)\n",
        "  - *c<sub>x</sub>, c<sub>y</sub>* = principle point offsets\n",
        "- *R* : camera rotation matrix\n",
        "- *t* : camera translation matrix\n",
        "- *λ* : coordinate scalefactor\n",
        "\n",
        "\n",
        "---\n",
        "\n",
        "\\begin{align}\n",
        "        x = \\frac{u'}{w'} = \\frac{fu}{w} + c_x\n",
        "    \\end{align}\n",
        "\n",
        "\\begin{align}\n",
        "        y = \\frac{v'}{w'} = \\frac{fv}{w} + c_y\n",
        "    \\end{align}\n",
        "\n",
        "\\begin{align}\n",
        "        \\left [\n",
        "        \\begin{array}{cl}\n",
        "            u' \\\\\n",
        "            v' \\\\\n",
        "            w' \\\\\n",
        "            \\end{array}\n",
        "            \\right ]=\n",
        "        λ\\left [\n",
        "            \\begin{array}{cl}\n",
        "            u \\\\\n",
        "            v \\\\\n",
        "            w \\\\\n",
        "            \\end{array}\n",
        "          \\right ] = K \\left [\n",
        "          \\begin{array}{cl}\n",
        "          R t\n",
        "          \\end{array}\n",
        "          \\right ]\n",
        "          \\left [\n",
        "            \\begin{array}{cl}\n",
        "            U \\\\\n",
        "            V \\\\\n",
        "            W \\\\\n",
        "            \\end{array}\n",
        "          \\right ]\n",
        "    \\end{align}"
      ],
      "metadata": {
        "id": "9A2SzSJUeZx-"
      }
    },
    {
      "cell_type": "code",
      "source": [
        "def intrinsic_parameters(f, cx, cy, fx = None, fy = None):\n",
        "  if not (fx and fy):\n",
        "    fx = f\n",
        "    fy = f\n",
        "  return np.array([\n",
        "      [fx, 0, cx],\n",
        "      [0, fy, cx],\n",
        "      [0, 0, 1]\n",
        "  ])\n",
        "\n",
        "def extrinsic_parameters(R, t):\n",
        "  return np.hstack((R, t))\n",
        "\n",
        "def pp_homogeneous_coordinates(K, R, t, U, V, W):\n",
        "  K_h = np.c_[ K, np.zeros(3) ]\n",
        "  R_t_h = np.r_[ np.c_[ R, t ], np.array([0, 0, 0, 1])]\n",
        "  W = np.vstack((U, V, W, 1))\n",
        "  lambda_X = K_h @ (R_t_h @ W)\n",
        "  return lambda_X"
      ],
      "metadata": {
        "id": "npz-v65GXjqI"
      },
      "execution_count": null,
      "outputs": []
    },
    {
      "cell_type": "markdown",
      "source": [
        "## Radiometry, Photometry, Colour, Human Vision and Digital Cameras.\n"
      ],
      "metadata": {
        "id": "GHwcUlr3qRem"
      }
    },
    {
      "cell_type": "markdown",
      "source": [
        "\n",
        "### Radiometry and Photometry\n"
      ],
      "metadata": {
        "id": "HtThk14pegPV"
      }
    },
    {
      "cell_type": "markdown",
      "source": [
        "\n",
        "**Radiant Energy:** A photon of wavelength λ carries some energy Q, measured in Joules (J).\n",
        "\n",
        "\\begin{align}\n",
        "      Q = \\frac{hc}{λ}\n",
        "    \\end{align}\n",
        "\n",
        "- *h* is Plank's constant.\n",
        "- *c* is the speed of light.\n",
        "\n",
        "**Radiant Flux:** The total amount of energy passing through a surface or region of space per unit time, measured in Watts (W).\n",
        "\n",
        "\\begin{align}\n",
        "        Φ = ∫_0^{Δt} \\frac{ΔQ}{Δt}=\\frac{dQ}{dt}\n",
        "    \\end{align}\n",
        "\n",
        "**Irradiance:** The power incident of a surface per unit area, measured in W/m<sup>2</sup>\n",
        "\n",
        "Irradiance of a flat surface:\n",
        "\\begin{align}\n",
        "      E = \\frac{dΦ}{dA}\n",
        "\\end{align}\n",
        "\n",
        "Irradiance of a sphere:\n",
        "\\begin{align}\n",
        "      E = \\frac{dΦ}{4πr^2}\n",
        "\\end{align}\n",
        "\n",
        "Irradiance of a point light source that illuminates uniformly (isotropic) between the angle of the light direction and surface normal, θ:\n",
        "\\begin{align}\n",
        "      E = \\frac{dΦcosθ}{dA}\n",
        "\\end{align}\n",
        "\n",
        "**Radiant Exitance:** The power per unit area leaving a surface, measured in W/m<sup>2</sup>. Mathematically it is the same as the Irradiance.\n",
        "\n",
        "**Angles:**\n",
        "\n",
        "2D: The Angle of the subtended arclength on a circle to raidus.\n",
        "\\begin{align}\n",
        "      dθ = \\frac{dl}{r}\n",
        "\\end{align}\n",
        "\n",
        "3D: The Solid Angle of the subtended area on a sphere to radius squared.\n",
        "\\begin{align}\n",
        "      dω = \\frac{A}{r^2}\n",
        "\\end{align}\n",
        "\n",
        "**Radiant Intensity:** The light emitted into a particular direction from an infinitesimally small point light source is called Radiant Intensity. Measured in energy per unit of time per unit of direction (W/sr).\n",
        "\\begin{align}\n",
        "      I(ω) = \\frac{dΦ}{dω}\n",
        "\\end{align}\n",
        "\n",
        "**Radiance:** The flux per unit area normal to a beam. Measured in Watts per unit area per unit direction (W/m<sup>2</sup>sr).\n",
        "\n",
        "\\begin{align}\n",
        "      L = \\frac{d^2Φ}{dA × cosθ × dω}\n",
        "\\end{align}\n",
        "\n",
        "- θ is the angle between the normal of the surface area element dA and the direction of the flux Φ.\n",
        "- The cosine term represent the foreshortening with respect to the flux direction.\n",
        "\n",
        "Radiance measures the flux passing through, leaving or arriving at a point in a particular direction.\n",
        "\n",
        "**Spectral Power Distribution (SPD):** The radiometric quantities as a function of wavelength. Spectral radiance, L<sub>λ</sub> is the radiance per unit wavelength interval and is measured in (W/m<sup>3</sup>sr).\n",
        "\n",
        "**Radiometry**\n",
        "\n",
        "- Radiant energy (Q) = Joule (J)\n",
        "- Radiant flux (Φ) = Watt (W)\n",
        "- Intensity (I) = W/sr\n",
        "- Irradiance (E) = W/m<sup>2</sup>\n",
        "- Radiance (L) = W/m<sup>2</sup>sr\n",
        "\n",
        "**Photometry**\n",
        "\n",
        "- Luminous energy = Talbot (T)\n",
        "- Luminous flux = lumen (lm)\n",
        "- Luminous intensity = lm/sr = candela (cd)\n",
        "- Illuminance = lm/m<sup>2</sup> = lux (lx)\n",
        "- Luminance (Y) = lm/m<sup>2</sup>sr = cd/m<sup>2</sup> = nit\n",
        "\n",
        "**Luminance (Y):** Measure of how bright a SPD appears to a human observer.\n",
        "\n",
        "\\begin{align}\n",
        "      Y = ∫_{380}^{830} L_λV(λ)Δλ\n",
        "\\end{align}\n",
        "\n",
        "- L<sub>λ</sub> = Spectral Distrubution\n",
        "- V(λ) = Spectral luminous efficiency function"
      ],
      "metadata": {
        "id": "mmdpFOA0ei6o"
      }
    },
    {
      "cell_type": "markdown",
      "source": [
        "### Colour and Colour Spaces\n"
      ],
      "metadata": {
        "id": "mYcMuB-O-p2f"
      }
    },
    {
      "cell_type": "markdown",
      "source": [
        "\n",
        "For each spectral target Q<sub>λ</sub>, the intensity for each primary RGB colour can be matched with colour matching functions: r(λ), g(λ), b(λ) to adjust the intensity of R, G and B.\n",
        "\n",
        "\\begin{align}\n",
        "      Q_λ = r(λ)R + g(λ)G + b(λ)B\n",
        "\\end{align}\n",
        "\n",
        "The CIE has defined standard colour matching functions: x̄(λ), ȳ(λ), z̄(λ)\n",
        "\n",
        "**Emissive case:** Given the SPD of a lightsource I(λ) and the CIE colour matching functions, the XYZ tristimulus values are computed as:\n",
        "\n",
        "\\begin{align}\n",
        "      X = ∫_λ I(λ) × x̄(λ) × Δλ \\\\\n",
        "      Y = ∫_λ I(λ) × ȳ(λ) × Δλ \\\\\n",
        "      Z = ∫_λ I(λ) × z̄(λ) × Δλ\n",
        "\\end{align}\n",
        "\n",
        "**Reflective and Transmissive cases:** Given the SPD of a lightsource I(λ), spectral reflectance of a material (spectral albedo) P(λ), and the CIE colour matching functions, the XYZ tristimulus values are computed as:\n",
        "\n",
        "\\begin{align}\n",
        "      X = \\frac{1}{N} ∫_λ I(λ) × P(λ) × x̄(λ) × Δλ \\\\\n",
        "      Y = \\frac{1}{N} ∫_λ I(λ) × P(λ) × ȳ(λ) × Δλ \\\\\n",
        "      Z = \\frac{1}{N} ∫_λ I(λ) × P(λ) × z̄(λ) × Δλ\n",
        "\\end{align}\n",
        "\n",
        "Where N = ∫<sub>λ</sub> I(λ) × ȳ(λ) × Δλ, λ ∈ visible.\n",
        "\n",
        "**CIE xy Chromaticity diagram**\n",
        "\n",
        "Associated with the XYZ tristimulus values are the chromaticity coordinates:\n",
        "\n",
        "\\begin{align}\n",
        "        x = X/(X+Y+Z)\n",
        "\\end{align}\n",
        "\\begin{align}\n",
        "        y = Y/(X+Y+Z)\n",
        "\\end{align}\n",
        "\\begin{align}\n",
        "        z = Z(X+Y+Z) = 1 - x - y\n",
        "\\end{align}\n",
        "\n",
        "The XYZ value can be recovered using the Y value if stored as xyY:\n",
        "\n",
        "\\begin{align}\n",
        "        X = xY/y\n",
        "\\end{align}\n",
        "\\begin{align}\n",
        "        Z = (1 - x - y)Y/y\n",
        "\\end{align}\n",
        "\n",
        "**Colour Spaces Conversions**\n",
        "\n",
        "A set of formulas that define a relationship between a colour vector and the standard CIE XYZ colour space. The matrix to convert between these colour spaces can be calculated from solving the following set of linear equations for S<sub>r</sub>, S<sub>g</sub>, S<sub>b</sub>.\n",
        "\n",
        "1. Get the primaries (x<sub>R</sub>, y<sub>R</sub>), (x<sub>G</sub>, y<sub>G</sub>), (x<sub>B</sub>, y<sub>B</sub>).\n",
        "2. Get the white point (x<sub>W</sub>, y<sub>W</sub>) and maximum luminance Y<sub>W</sub>.\n",
        "3. Compute the z chromaticity coordinate for each primary and white point.\n",
        "4. Compute the XYZ tristimulus value for the whitepoint.\n",
        "5. Solve the linear equations:\n",
        "\n",
        "\\begin{align}\n",
        "        \\left\\{\n",
        "        \\begin{array}{cl}\n",
        "        X_W = x_RS_R + x_GS_G + x_BS_B\\\\\n",
        "        Y_W = y_RS_R + y_GS_G + y_BS_B\\\\\n",
        "        Z_W = z_RS_R + z_GS_G + z_BS_B\n",
        "        \\end{array}\n",
        "        \\right.\n",
        "    \\end{align}\n",
        "\n",
        "6. The conversion matrix from RGB to a new XYZ colour space is as follows:\n",
        "\n",
        "\\begin{align}\n",
        "        \\begin{pmatrix}\n",
        "        x_RS_R & x_GS_G & x_BS_B\\\\\n",
        "        y_RS_R & y_GS_G & y_BS_B\\\\\n",
        "        z_RS_R & z_GS_G & z_BS_B\n",
        "        \\end{pmatrix}\n",
        "    \\end{align}"
      ],
      "metadata": {
        "id": "3LrvH0RRerOb"
      }
    },
    {
      "cell_type": "code",
      "source": [
        "# sRGB values\n",
        "\n",
        "# primaries and whitepoint\n",
        "x_R, x_G, x_B, x_W = 0.64, 0.3, 0.15, 0.3127\n",
        "y_R, y_G, y_B, y_W = 0.33, 0.6, 0.06, 0.3290\n",
        "Y_W = 1\n",
        "\n",
        "# Gamma for simplified sRGB\n",
        "gamma = 2.2\n",
        "\n",
        "# z chromaticity\n",
        "z_R = 1 - x_R - y_R\n",
        "z_G = 1 - x_G - y_G\n",
        "z_B = 1 - x_B - y_B\n",
        "z_W = 1 - x_W - y_W\n",
        "\n",
        "# XYZ tristimulus value for the white point\n",
        "def xyY2XZ(x, y, Y):\n",
        "  X = (x*Y)/y\n",
        "  Z = (1 - x - y)*Y/y\n",
        "  return X, Z\n",
        "X_W, Z_W = xyY2XZ(x_W, y_W, Y_W)\n",
        "\n",
        "# Recover the RGB2XYZ colour space conversion matrix\n",
        "def get_RGB2XYZ(X_W, Y_W, Z_W, x_R, y_R, z_R, x_G, y_G, z_G, x_B, y_B, z_B):\n",
        "  A = np.array([\n",
        "      [x_R, x_G, x_B],\n",
        "      [y_R, y_G, y_B],\n",
        "      [z_R, z_G, z_B]\n",
        "  ])\n",
        "  B = np.array([X_W, Y_W, Z_W])\n",
        "\n",
        "  # Solve the linear equation for B = AX\n",
        "  X = np.linalg.solve(A, B)\n",
        "  S_R, S_G, S_B = X\n",
        "  print(f\"S_R = {S_R}, S_G = {S_G}, S_B = {S_B}\\n\")\n",
        "\n",
        "  M = np.array([\n",
        "      [x_R * S_R, x_G * S_G, x_B * S_B],\n",
        "      [y_R * S_R, y_G * S_G, y_B * S_B],\n",
        "      [z_R * S_R, z_G * S_G, z_B * S_B]\n",
        "  ])\n",
        "  return M\n",
        "sRGB2XYZ = get_RGB2XYZ(X_W, Y_W, Z_W, x_R, y_R, z_R, x_G, y_G, z_G, x_B, y_B, z_B)\n",
        "XYZ2sRGB = np.linalg.inv(sRGB2XYZ)\n",
        "print(f\"sRGB to XYZ matrix:\\n {sRGB2XYZ}\\n\")\n",
        "print(f\"XYZ to sRGB matrix:\\n {XYZ2sRGB}\")"
      ],
      "metadata": {
        "colab": {
          "base_uri": "https://localhost:8080/"
        },
        "id": "x9VJBLDGZOzJ",
        "outputId": "d9f8f1eb-256c-43ce-d857-85fdc4feec10"
      },
      "execution_count": null,
      "outputs": [
        {
          "output_type": "stream",
          "name": "stdout",
          "text": [
            "S_R = 0.6443606238530615, S_G = 1.19194779794626, S_B = 1.2032052560122284\n",
            "\n",
            "sRGB to XYZ matrix:\n",
            " [[0.4123908  0.35758434 0.18048079]\n",
            " [0.21263901 0.71516868 0.07219232]\n",
            " [0.01933082 0.11919478 0.95053215]]\n",
            "\n",
            "XYZ to sRGB matrix:\n",
            " [[ 3.24096994 -1.53738318 -0.49861076]\n",
            " [-0.96924364  1.8759675   0.04155506]\n",
            " [ 0.05563008 -0.20397696  1.05697151]]\n"
          ]
        }
      ]
    },
    {
      "cell_type": "code",
      "source": [
        "xs = np.array([0.31, 0.31, 0.31, 0.19, 0.37, 0.45, 0.53, 0.30, 0.18, 0.38, 0.47, 0.20])\n",
        "ys = np.array([0.32, 0.33, 0.33, 0.26, 0.25, 0.48, 0.33, 0.48, 0.14, 0.49, 0.31, 0.17])\n",
        "Y = np.array([0.03, 0.20, 0.95, 0.21, 0.20, 0.61, 0.13, 0.25, 0.07, 0.45, 0.19, 0.12])\n",
        "X = np.array([(x*Y)/y for x, y, Y in zip(xs, ys, Y)])\n",
        "Z = np.array([(1 - x - y)*Y/y for x, y, Y in zip(xs, ys, Y)])"
      ],
      "metadata": {
        "id": "LN1sOrXXSfBc"
      },
      "execution_count": null,
      "outputs": []
    },
    {
      "cell_type": "code",
      "source": [
        "XYZ = np.vstack((X,Y,Z))\n",
        "B = np.array([XYZ2sRGB @ xyz for xyz in XYZ.T])\n",
        "B[B < 0] = 0\n",
        "B[B > 1] = 1\n",
        "B"
      ],
      "metadata": {
        "colab": {
          "base_uri": "https://localhost:8080/"
        },
        "id": "_TYRPbAFTBHd",
        "outputId": "c2616526-d35e-4d55-94f5-c2bf8791e1f7"
      },
      "execution_count": null,
      "outputs": [
        {
          "output_type": "execute_result",
          "data": {
            "text/plain": [
              "array([[0.03077363, 0.02955182, 0.03216114],\n",
              "       [0.19264507, 0.20215974, 0.20026829],\n",
              "       [0.91506407, 0.96025876, 0.95127436],\n",
              "       [0.        , 0.26367159, 0.43524119],\n",
              "       [0.5002728 , 0.10093012, 0.29699045],\n",
              "       [0.87127036, 0.59375064, 0.00141393],\n",
              "       [0.44931629, 0.04380128, 0.04339146],\n",
              "       [0.06492328, 0.32230907, 0.07880928],\n",
              "       [0.01454281, 0.05821452, 0.35009863],\n",
              "       [0.37968192, 0.51090029, 0.05381359],\n",
              "       [0.5742736 , 0.08283236, 0.1197901 ],\n",
              "       [0.05132758, 0.10676148, 0.45341787]])"
            ]
          },
          "metadata": {},
          "execution_count": 80
        }
      ]
    },
    {
      "cell_type": "code",
      "source": [
        "rs = np.array([81, 515, 2483, 305, 790, 1835, 571, 431, 145, 1057, 854, 266])\n",
        "gs = np.array([128, 804, 3890, 1173, 754, 1912, 327, 995, 471, 1616, 558, 746])\n",
        "bs = np.array([110, 680, 3260, 1314, 896, 657, 236, 490, 818, 656, 468, 1145])\n",
        "\n",
        "A = np.vstack((rs,gs,bs)).T\n",
        "A = A/(np.power(2,12)-1)\n",
        "A"
      ],
      "metadata": {
        "colab": {
          "base_uri": "https://localhost:8080/"
        },
        "id": "xKRC5cvVVPCF",
        "outputId": "1504c27a-a61f-42fb-8b04-256f89cd7be8"
      },
      "execution_count": null,
      "outputs": [
        {
          "output_type": "execute_result",
          "data": {
            "text/plain": [
              "array([[0.01978022, 0.03125763, 0.02686203],\n",
              "       [0.12576313, 0.196337  , 0.16605617],\n",
              "       [0.60634921, 0.94993895, 0.7960928 ],\n",
              "       [0.07448107, 0.28644689, 0.32087912],\n",
              "       [0.19291819, 0.18412698, 0.21880342],\n",
              "       [0.44810745, 0.46691087, 0.16043956],\n",
              "       [0.13943834, 0.07985348, 0.05763126],\n",
              "       [0.10525031, 0.24297924, 0.11965812],\n",
              "       [0.03540904, 0.11501832, 0.1997558 ],\n",
              "       [0.25811966, 0.39462759, 0.16019536],\n",
              "       [0.20854701, 0.13626374, 0.11428571],\n",
              "       [0.06495726, 0.18217338, 0.27960928]])"
            ]
          },
          "metadata": {},
          "execution_count": 81
        }
      ]
    },
    {
      "cell_type": "code",
      "source": [
        "M = np.linalg.lstsq(A, B)[0].T\n",
        "M"
      ],
      "metadata": {
        "colab": {
          "base_uri": "https://localhost:8080/"
        },
        "id": "NY8JbWdBV4rm",
        "outputId": "3ab872b0-302d-49c4-8fef-9ccd5762c06b"
      },
      "execution_count": null,
      "outputs": [
        {
          "output_type": "stream",
          "name": "stderr",
          "text": [
            "<ipython-input-82-4308c0b615e8>:1: FutureWarning: `rcond` parameter will change to the default of machine precision times ``max(M, N)`` where M and N are the input matrix dimensions.\n",
            "To use the future default and silence this warning we advise to pass `rcond=None`, to keep using the old, explicitly pass `rcond=-1`.\n",
            "  M = np.linalg.lstsq(A, B)[0].T\n"
          ]
        },
        {
          "output_type": "execute_result",
          "data": {
            "text/plain": [
              "array([[ 3.47532895, -1.56895135,  0.4212012 ],\n",
              "       [-0.39202336,  1.88719946, -0.75311668],\n",
              "       [-0.09199522, -0.61359641,  1.99640353]])"
            ]
          },
          "metadata": {},
          "execution_count": 82
        }
      ]
    },
    {
      "cell_type": "code",
      "source": [
        "cc_RGB = np.array([M @ xyz for xyz in A])\n",
        "cc_RGB[cc_RGB < 0] = 0\n",
        "cc_RGB[cc_RGB > 1] = 1\n",
        "\n",
        "cc_RGB"
      ],
      "metadata": {
        "colab": {
          "base_uri": "https://localhost:8080/"
        },
        "id": "QEx5gf_3_KOc",
        "outputId": "8ff4f480-11eb-441a-a55a-f3708ca2d16e"
      },
      "execution_count": null,
      "outputs": [
        {
          "output_type": "execute_result",
          "data": {
            "text/plain": [
              "array([[0.03101539, 0.03100484, 0.03262819],\n",
              "       [0.19896809, 0.19616532, 0.19947383],\n",
              "       [0.95217019, 0.95547046, 0.95066211],\n",
              "       [0.        , 0.26972467, 0.45798953],\n",
              "       [0.47372816, 0.1070714 , 0.30609271],\n",
              "       [0.89233769, 0.58465564, 0.        ],\n",
              "       [0.38358223, 0.0526333 , 0.05322978],\n",
              "       [0.03495696, 0.32717319, 0.08011218],\n",
              "       [0.02673729, 0.05274191, 0.3249609 ],\n",
              "       [0.3453737 , 0.52290625, 0.05392673],\n",
              "       [0.55911556, 0.08933107, 0.12536414],\n",
              "       [0.05769845, 0.10775433, 0.44045626]])"
            ]
          },
          "metadata": {},
          "execution_count": 130
        }
      ]
    },
    {
      "cell_type": "markdown",
      "source": [
        "### Digital Cameras\n"
      ],
      "metadata": {
        "id": "_ZLf7_p0w4_f"
      }
    },
    {
      "cell_type": "markdown",
      "source": [
        "\n",
        "**Mapping acquired RAW colours**\n",
        "\n",
        "Colour Matching Functions, Spectral Reflectance *P<sub>j</sub>*, SPDs *I*, etc. are typically subsampled at regular intervals for digitisation. (e.g. Δλ = 10nm). Where *j* is a patch of a standard colour checker with known reflectance spectra.\n",
        "\n",
        "The discrete version of calculating XYZ tristimulus values are:\n",
        "\n",
        "\\begin{align}\n",
        "        X_j = \\frac{1}{N} \\sum_{i} I_i P_{j,i} x̄_i Δλ \\\\\n",
        "        Y_j = \\frac{1}{N} \\sum_{i} I_i P_{j,i} ȳ_i Δλ \\\\\n",
        "        Z_j = \\frac{1}{N} \\sum_{i} I_i P_{j,i} z̄_i Δλ \\\\\n",
        "    \\end{align}\n",
        "\\begin{align}\n",
        "        N = ∑_i I_i ȳ_i Δλ\n",
        "    \\end{align}\n",
        "Where:\n",
        "- *j* is a patch of a standard colour checker with known reflectance spectra.\n",
        "- *i* is an interval of the wavelength\n",
        "\n",
        "**Mapping acquired colours**\n",
        "\n",
        "The X<sub>j</sub>Y<sub>j</sub>Z<sub>j</sub> tristimulus values need to be converted to linear RGB values R<sub>j</sub>G<sub>j</sub>B<sub>j</sub>.\n",
        "\n",
        "This requires the camera spectral sensitivities, css. The css describes the sensor output per unit incident light energy at each wavelength in the visible spectrum for RGB.\n",
        "\n",
        "\\begin{align}\n",
        "        r_j = \\sum_{i} I_i P_{j,i} css_{r,i} Δλ \\\\\n",
        "        g_j = \\sum_{i} I_i P_{j,i} css_{g,i} Δλ \\\\\n",
        "        b_j = \\sum_{i} I_i P_{j,i} css_{b,i} Δλ \\\\\n",
        "    \\end{align}\n",
        "\n",
        "Solving the following linear equation will give the conversion matrix *M*:\n",
        "\n",
        "\\begin{align}\n",
        "        \\begin{pmatrix}\n",
        "        r_1 & g_1 & b_1 \\\\\n",
        "        ⋮ & ⋮ & ⋮ \\\\\n",
        "        r_n & g_n & b_n\n",
        "        \\end{pmatrix} × M = \\begin{pmatrix}\n",
        "        R_1 & G_1 & B_1 \\\\\n",
        "        ⋮ & ⋮ & ⋮ \\\\\n",
        "        R_n & G_n & B_n\n",
        "        \\end{pmatrix}\n",
        "    \\end{align}\n",
        "\n",
        "M can be used to map any *r<sub>c</sub>g<sub>c</sub>b<sub>c</sub>* camera space value to the corresponding linear sRGB colour *r<sub>m</sub>g<sub>m</sub>b<sub>m</sub>*:\n",
        "\n",
        "\\begin{align}\n",
        "        \\begin{pmatrix}\n",
        "        r_m \\\\\n",
        "        g_m \\\\\n",
        "        b_m\n",
        "        \\end{pmatrix} = M × \\begin{pmatrix}\n",
        "        r_c \\\\\n",
        "        g_c \\\\\n",
        "        b_c\n",
        "        \\end{pmatrix}\n",
        "    \\end{align}"
      ],
      "metadata": {
        "id": "OBfdyerXeuJ9"
      }
    },
    {
      "cell_type": "code",
      "source": [
        "# Digital XYZ acquisition:\n",
        "def XYZvalues(SPD, P, CMF, interval):\n",
        "  XYZ = np.empty((len(P[0]), 3)) # number of patches by XYZ (j, 3)\n",
        "  N = SPD @ CMF[:, 1] * interval\n",
        "\n",
        "  for ch in range(3):\n",
        "    for j in range(len(P[0])):\n",
        "      XYZ[j, ch] = (1/N) * sum([SPD[i] * P[i, j] * CMF[i, ch] * interval for i in range(len(SPD))])\n",
        "\n",
        "  return XYZ\n",
        "\n",
        "# linear RGB acquisition:\n",
        "def linearRGBvalues(SPD, P, css, interval, rescale=0.95):\n",
        "  rgb =  np.empty((len(P[0]), 3)) # number of patches by rgb (j, 3)\n",
        "\n",
        "  for ch in range(3):\n",
        "    for j in range(len(P[0])):\n",
        "      rgb[j, ch] = sum([SPD[i] * P[i, j] * css[i, ch] * interval for i in range(len(SPD))])\n",
        "\n",
        "  rgb = rgb/rgb.max()*rescale\n",
        "  rgb[rgb < 0] = 0\n",
        "\n",
        "  return rgb\n",
        "\n",
        "# Find the camera space to sRGB colour space conversion matrix\n",
        "def get_cRGB2sRGB(cRGB, sRGB):\n",
        "  M = np.linalg.lstq(cRGB, sRGB)\n",
        "  return M[0]\n"
      ],
      "metadata": {
        "id": "U3RwN44jA0-8"
      },
      "execution_count": null,
      "outputs": []
    },
    {
      "cell_type": "markdown",
      "source": [
        "### Colour difference\n"
      ],
      "metadata": {
        "id": "Kdrj46XgPl79"
      }
    },
    {
      "cell_type": "markdown",
      "source": [
        "\n",
        "**RGB colour difference**\n",
        "\n",
        "The gamut of an RGB colour space can be arranged in a cube. Consider three colours:\n",
        "\n",
        "- C<sub>1</sub> = [0.7, 0.5, 1]\n",
        "- C<sub>2</sub> = [0.5, 0.5, 1]\n",
        "- C<sub>3</sub> = [0.3, 0.5, 1]\n",
        "\n",
        "The distance between two colours as the Euclidian distance, *d*, computed using their RGB component, d(C<sub>1</sub>, C<sub>2</sub>) = d(C<sub>2</sub>, C<sub>3</sub>)\n",
        "\n",
        "However, in sRGB, they are not perceptually uniform.\n",
        "\n",
        "**CIE 1976 (CIELAB)**\n",
        "\n",
        "CIELAB is a colour space designed as a perceptually uniform colour space. The coordinates of a colour are indicated with (L, a, b)\n",
        "\n",
        "The Euclidean distance in the CIELAB colour space is known as Delta E. Indicated as ΔE<sub>76</sub> or ΔE<sup>*</sup><sub>ab</sub>\n",
        "\n",
        "\\begin{align}\n",
        "        ΔE_{76} = \\sqrt{(ΔL)^2 + (Δa)^2 + (Δb)^2}\n",
        "    \\end{align}\n",
        "\n",
        "**Conversion from CIE 1931 to CIELAB**\n",
        "\n",
        "Given a reference white *W* with tristimulus values X<sub>W</sub>Y<sub>W</sub>Z<sub>W</sub>, the conversion of a tristimulus value XYZ in the CIE 1931 space to CIELAB is defined as follows:\n",
        "\n",
        "\\begin{align}\n",
        "        L = 116f_y - 16 \\\\\n",
        "        a = 500(f_x - f_y) \\\\\n",
        "        b = 200(f_y - f_z) \\\\\n",
        "    \\end{align}\n",
        "f<sub>x</sub>, f<sub>y</sub> and f<sub>z</sub> are defined as:\n",
        "\\begin{align}\n",
        "        f_x = \\left\\{\n",
        "          \\begin{array}{cc}\n",
        "          \\sqrt[3]{x_r} & \\text{if } x_r > ϵ \\\\\n",
        "          \\frac{kx_r+16}{116} & \\text{otherwise}\n",
        "          \\end{array}\n",
        "          \\right. \\\\\n",
        "        f_y = \\left\\{\n",
        "          \\begin{array}{cc}\n",
        "          \\sqrt[3]{y_r} & \\text{if } y_r > ϵ \\\\\n",
        "          \\frac{ky_r+16}{116} & \\text{otherwise}\n",
        "          \\end{array}\n",
        "          \\right. \\\\\n",
        "        f_z = \\left\\{\n",
        "          \\begin{array}{cc}\n",
        "          \\sqrt[3]{z_r} & \\text{if } z_r > ϵ \\\\\n",
        "          \\frac{kz_r+16}{116} & \\text{otherwise}\n",
        "          \\end{array}\n",
        "          \\right. \\\\\n",
        "    \\end{align}\n",
        "x<sub>r</sub>, y<sub>r</sub> and z<sub>r</sub> are defined as:\n",
        "\\begin{align}\n",
        "        x_r = \\frac{X}{X_W} \\\\\n",
        "        y_r = \\frac{Y}{Y_W} \\\\\n",
        "        z_r = \\frac{Z}{Z_W}\n",
        "    \\end{align}\n",
        "Finally, the values of the constants are: ϵ = 216/24389 and *k* = 24389/27"
      ],
      "metadata": {
        "id": "hrGeELnoeydN"
      }
    },
    {
      "cell_type": "code",
      "source": [
        "\n",
        "# Constants\n",
        "epsilon = 216/24389\n",
        "k = 24389/27\n",
        "\n",
        "# CIELAB Euclidian Distance\n",
        "def delta_E(L1, a1, b1, L2, a2, b2):\n",
        "  L = L1 - L2\n",
        "  a = a1 - a2\n",
        "  b = b1 - b2\n",
        "  return np.sqrt(np.sum(np.square([L, a, b])))\n",
        "\n",
        "def cielab_L(f_y):\n",
        "  return (116*f_y) - 16\n",
        "\n",
        "def cielab_a(f_x, f_y):\n",
        "  return 500*(f_x - f_y)\n",
        "\n",
        "def cielab_b(f_y, f_z):\n",
        "  return 200*(f_y - f_z)\n",
        "\n",
        "def cielab_f_x(X, X_W):\n",
        "  x_r = X/X_W\n",
        "  if x_r > epsilon:\n",
        "    return np.cbrt(x_r)\n",
        "  else:\n",
        "    return ((k*x_r) + 16)/116\n",
        "\n",
        "def cielab_f_y(Y, Y_W):\n",
        "  y_r = Y/Y_W\n",
        "  if y_r > epsilon:\n",
        "    return np.cbrt(y_r)\n",
        "  else:\n",
        "    return ((k*y_r) + 16)/116\n",
        "\n",
        "def cielab_f_z(Z, Z_W):\n",
        "  z_r = Z/Z_W\n",
        "  if z_r > epsilon:\n",
        "    return np.cbrt(z_r)\n",
        "  else:\n",
        "    return ((k*z_r) + 16)/116\n",
        "\n",
        "def XYZ_to_CIELab(XYZ, XYZ_W):\n",
        "  X = XYZ[0]\n",
        "  Y = XYZ[1]\n",
        "  Z = XYZ[2]\n",
        "  X_W = XYZ_W[0]\n",
        "  Y_W = XYZ_W[1]\n",
        "  Z_W = XYZ_W[2]\n",
        "\n",
        "  f_x = cielab_f_x(X, X_W)\n",
        "  f_y = cielab_f_y(Y, Y_W)\n",
        "  f_z = cielab_f_z(Z, Z_W)\n",
        "\n",
        "  L = cielab_L(f_y)\n",
        "  a = cielab_a(f_x, f_y)\n",
        "  b = cielab_b(f_y, f_z)\n",
        "\n",
        "  return L,a,b\n"
      ],
      "metadata": {
        "id": "4vYFAdtaZ9l7"
      },
      "execution_count": null,
      "outputs": []
    },
    {
      "cell_type": "code",
      "source": [
        "reference_white = np.array([X_W, Y_W, Z_W])\n",
        "reference_white"
      ],
      "metadata": {
        "id": "tlp-7dG8GVMg",
        "outputId": "adbe551c-aa5e-40ee-efc7-394f6cad52f7",
        "colab": {
          "base_uri": "https://localhost:8080/"
        }
      },
      "execution_count": null,
      "outputs": [
        {
          "output_type": "execute_result",
          "data": {
            "text/plain": [
              "array([0.95045593, 1.        , 1.08905775])"
            ]
          },
          "metadata": {},
          "execution_count": 141
        }
      ]
    },
    {
      "cell_type": "code",
      "source": [
        "sRGB_Lab = np.array([XYZ_to_CIELab(rgb, reference_white) for rgb in B])\n",
        "sRGB_Lab"
      ],
      "metadata": {
        "colab": {
          "base_uri": "https://localhost:8080/"
        },
        "id": "_kBta6JC8NQC",
        "outputId": "6d9109a0-e456-4b37-febc-8992e18fe948"
      },
      "execution_count": null,
      "outputs": [
        {
          "output_type": "execute_result",
          "data": {
            "text/plain": [
              "array([[ 1.98635063e+01,  4.77822472e+00,  1.44141883e-02],\n",
              "       [ 5.20805222e+01,  2.54901763e-01,  3.64792873e+00],\n",
              "       [ 9.84425207e+01,  4.28486728e-01,  6.13212334e+00],\n",
              "       [ 5.83839270e+01, -2.51654858e+02, -1.90700330e+01],\n",
              "       [ 3.80088489e+01,  1.70905924e+02, -3.65774760e+01],\n",
              "       [ 8.14973218e+01,  6.54628624e+01,  1.38490631e+02],\n",
              "       [ 2.48902952e+01,  2.13251061e+02,  2.19100673e+00],\n",
              "       [ 6.35332690e+01, -1.38425889e+02,  5.37827472e+01],\n",
              "       [ 2.89574589e+01, -6.96525118e+01, -5.94942684e+01],\n",
              "       [ 7.67335117e+01, -3.14719826e+01,  8.64942183e+01],\n",
              "       [ 3.45659295e+01,  2.04743453e+02, -8.64409415e+00],\n",
              "       [ 3.90295788e+01, -4.82046719e+01, -5.44624786e+01]])"
            ]
          },
          "metadata": {},
          "execution_count": 135
        }
      ]
    },
    {
      "cell_type": "code",
      "source": [
        "cc_Lab = np.array([XYZ_to_CIELab(rgb, reference_white) for rgb in cc_RGB])\n",
        "cc_Lab"
      ],
      "metadata": {
        "colab": {
          "base_uri": "https://localhost:8080/"
        },
        "id": "ZQKJXADv_rP0",
        "outputId": "2c036c9d-ea88-484d-e2e6-c5ec7644f6d5"
      },
      "execution_count": null,
      "outputs": [
        {
          "output_type": "execute_result",
          "data": {
            "text/plain": [
              "array([[  20.44191045,    2.7013237 ,    0.71384997],\n",
              "       [  51.40085436,    6.36332386,    2.62667671],\n",
              "       [  98.25198238,    7.83498211,    5.8446335 ],\n",
              "       [  58.94883381, -254.08980092,  -20.6191757 ],\n",
              "       [  39.08277622,  159.00658212,  -36.03755678],\n",
              "       [  80.99694092,   71.50336343,  139.64989814],\n",
              "       [  27.47218954,  182.11793807,    1.82727037],\n",
              "       [  63.93136449, -178.25280268,   54.01234025],\n",
              "       [  27.50207127,  -35.4430443 ,  -58.64266338],\n",
              "       [  77.45429539,  -46.02222229,   87.6855484 ],\n",
              "       [  35.85518336,  195.43403629,   -7.88509256],\n",
              "       [  39.19963858,  -41.42125195,  -52.73244852]])"
            ]
          },
          "metadata": {},
          "execution_count": 136
        }
      ]
    },
    {
      "cell_type": "code",
      "source": [
        "difference_Lab = sRGB_Lab - cc_Lab\n",
        "delta_Es = [np.sqrt(np.sum(np.square(difference))) for difference in difference_Lab]\n",
        "delta_Es, np.mean(delta_Es)"
      ],
      "metadata": {
        "colab": {
          "base_uri": "https://localhost:8080/"
        },
        "id": "lPpNPo_HBNnm",
        "outputId": "ffd2865e-e12e-4f47-df06-ff633f8c7134"
      },
      "execution_count": null,
      "outputs": [
        {
          "output_type": "execute_result",
          "data": {
            "text/plain": [
              "([2.2665567606086454,\n",
              "  6.230387197933724,\n",
              "  7.414521498090755,\n",
              "  2.940733196084265,\n",
              "  11.959898030162902,\n",
              "  6.171056128820663,\n",
              "  31.24211632096787,\n",
              "  39.82956474332243,\n",
              "  34.2510007641337,\n",
              "  14.616712086580778,\n",
              "  9.428864943021983,\n",
              "  7.002621674218139],\n",
              " 14.44616944532882)"
            ]
          },
          "metadata": {},
          "execution_count": 139
        }
      ]
    },
    {
      "cell_type": "markdown",
      "source": [
        "# Topic 2: Multiview Geometry and Local Features"
      ],
      "metadata": {
        "id": "ykUjr8vyfSyv"
      }
    },
    {
      "cell_type": "markdown",
      "source": [
        "## Multiview Geometry"
      ],
      "metadata": {
        "id": "n_0EfV1bfeC5"
      }
    },
    {
      "cell_type": "markdown",
      "source": [
        "### Pose Estimation"
      ],
      "metadata": {
        "id": "Z3Wjhelwfi2K"
      }
    },
    {
      "cell_type": "markdown",
      "source": [
        "Rotation matrix *R* and translation vector *t* convert world to camera coordinates. [R t] define the pose of the camera.\n",
        "\n",
        "Position of the camera centre is given by:\n",
        "\\begin{align}\n",
        "        c = -R^⊤t\n",
        "    \\end{align}\n",
        "\n",
        "The pose of the camera can be estimated via linear least squares.\n",
        "Given *n* pairs of 2D-3D corresponding points:\n",
        "\n",
        "\\begin{align}\n",
        "        \\begin{array}{cc}\n",
        "        X_1 = (x_1,y_1) & \\iff & W_1 = (u_1,v_1,w_1)\\\\\n",
        "        & ⋮ & \\\\\n",
        "        X_n = (x_n,y_n) & \\iff & W_n = (u_n,v_n,w_n)\\\\\n",
        "        \\end{array}\n",
        "    \\end{align}\n",
        "\n",
        "with the intrinsic parameter matrix *K*, for each pair *i* we have the perspective projection equation:\n",
        "\n",
        "\\begin{align}\n",
        "        λ_i \\begin{pmatrix}\n",
        "        x_i \\\\ y_i \\\\ 1\n",
        "        \\end{pmatrix} = K \\begin{pmatrix}\n",
        "        r_{1,1} & r_{1,2} & r_{1,3} & t_x \\\\\n",
        "        r_{2,1} & r_{2,2} & r_{2,3} & t_y \\\\\n",
        "        r_{3,1} & r_{3,2} & r_{3,3} & t_z \\\\\n",
        "        \\end{pmatrix} \\begin{pmatrix}\n",
        "        u_i \\\\ v_i \\\\ w_i \\\\ 1\n",
        "        \\end{pmatrix}\n",
        "    \\end{align}\n",
        "\n",
        "1. Multiply both sides by K<sup>-1</sup> to remove K:\n",
        "\n",
        "\\begin{align}\n",
        "        λ_i \\begin{pmatrix}\n",
        "        x'_i \\\\ y'_i \\\\ 1\n",
        "        \\end{pmatrix} =\\begin{pmatrix}\n",
        "        r_{1,1} & r_{1,2} & r_{1,3} & t_x \\\\\n",
        "        r_{2,1} & r_{2,2} & r_{2,3} & t_y \\\\\n",
        "        r_{3,1} & r_{3,2} & r_{3,3} & t_z \\\\\n",
        "        \\end{pmatrix} \\begin{pmatrix}\n",
        "        u_i \\\\ v_i \\\\ w_i \\\\ 1\n",
        "        \\end{pmatrix}\n",
        "    \\end{align}\n",
        "\n",
        "2. λ is equivalent to the following equation from the matrix:\n",
        "\n",
        "\\begin{align}\n",
        "        λ_i = r_{3,1}u_i + r_{3,2}v_i + r_{3,3}w_i + t_z\n",
        "    \\end{align}\n",
        "\n",
        "3. Substitute for λ<sub>i</sub> to get:\n",
        "\n",
        "\\begin{align}\n",
        "        \\begin{pmatrix}\n",
        "        (r_{3,1}u_i + r_{3,2}v_i + r_{3,3}w_i + t_z) x'_i \\\\\n",
        "        (r_{3,1}u_i + r_{3,2}v_i + r_{3,3}w_i + t_z) y'_i \\\\\n",
        "        \\end{pmatrix} =\\begin{pmatrix}\n",
        "        r_{1,1} & r_{1,2} & r_{1,3} & t_x \\\\\n",
        "        r_{2,1} & r_{2,2} & r_{2,3} & t_y \\\\\n",
        "        \\end{pmatrix} \\begin{pmatrix}\n",
        "        u_i \\\\ v_i \\\\ w_i \\\\ 1\n",
        "        \\end{pmatrix}\n",
        "    \\end{align}\n",
        "\n",
        "4. Rearrange for homogeneous linear equation in unknown pose:\n",
        "\n",
        "\\begin{align}\n",
        "        \\begin{pmatrix}\n",
        "        u_i & v_i & w_i & 1 & 0 & 0 & 0 & 0 & -u_ix'_i & -v_ix'_i & -w_ix'_i & -x'_i \\\\\n",
        "        0 & 0 & 0 & 0 & u_i & v_i & w_i & 1 & -u_iy'_i & -v_iy'_i & -w_iy'_i & -y'_i \\\\\n",
        "        ⋮ & ⋮ & ⋮ & ⋮ & ⋮ & ⋮ & ⋮ & ⋮ & ⋮ & ⋮ & ⋮ & ⋮ \\\\\n",
        "        u_n & v_n & w_n & 1 & 0 & 0 & 0 & 0 & -u_nx'_n & -v_nx'_n & -w_nx'_n & -x'_n \\\\\n",
        "        0 & 0 & 0 & 0 & u_n & v_n & w_n & 1 & -u_ny'_n & -v_ny'_n & -w_ny'_n & -y'_n \\\\\n",
        "        \\end{pmatrix} × \\begin{pmatrix}\n",
        "        r_{1,1} \\\\ r_{1,2} \\\\ r_{1,3} \\\\ t_x \\\\\n",
        "        r_{2,1} \\\\ r_{2,2} \\\\ r_{2,3} \\\\ t_y \\\\\n",
        "        r_{3,1} \\\\ r_{3,2} \\\\ r_{3,3} \\\\ t_z \\\\\n",
        "        \\end{pmatrix} = 0\n",
        "    \\end{align}\n",
        "\n",
        "5. Solve the linear problem with SVD\n",
        "\n",
        "6. Reparameterise R to a valid rotation matrix."
      ],
      "metadata": {
        "id": "ycMPvzf3freq"
      }
    },
    {
      "cell_type": "code",
      "source": [
        "# Pose Estimation -> returns pose R, t\n",
        "def pose_estimation(X, W, K):\n",
        "  npnts = X.shape[0]\n",
        "  A = np.empty((npnts*2, 12))\n",
        "  for i in range(npnts):\n",
        "    xy_prime = np.linalg.inv(K) @ np.vstack((X[i,0], X[i,1], 1))\n",
        "    x, y, _ = xy_prime\n",
        "    x, y = x[0], y[0]\n",
        "    u, v, w = W[i]\n",
        "\n",
        "    A[2*i, :] = [u, v ,w ,1 ,0 ,0 ,0 ,0 , -u*x, -v*x, -w*x, -x]\n",
        "    A[2*i+1, :] = [0, 0, 0, 0, u, v, w, 1, -u*y, -v*y, -w*y, -y]\n",
        "\n",
        "  Rt = np.linalg.svd(A)\n",
        "  Rt = Rt[-1][-1, :].reshape((3, 4))\n",
        "  R = Rt[:, :3]\n",
        "  t = Rt[:, 3]\n",
        "  rot = Rotation.from_matrix(R)\n",
        "  return rot.as_matrix, t"
      ],
      "metadata": {
        "id": "34iVBM0jdku2"
      },
      "execution_count": null,
      "outputs": []
    },
    {
      "cell_type": "markdown",
      "source": [
        "### 3D reconstruction\n"
      ],
      "metadata": {
        "id": "pMf8XTS3lFBo"
      }
    },
    {
      "cell_type": "markdown",
      "source": [
        "\n",
        "**Multiview Reconstruction Problem**\n",
        "\n",
        "- *n* cameras are viewing the same world point *W* = (u,v,w).\n",
        "- *i*<sup>th</sup> camera has known intrinsic matrix *K<sub>i</sub>* and pose *R<sub>i</sub>*, *t<sub>i</sub>*.\n",
        "- Projection of *W* into *i*<sup>th</sup> is X<sub>i</sub> = (x<sub>i</sub>,y<sub>i</sub>)\n",
        "- Find (best fit) *W*\n",
        "\n",
        "For each camera *i* for a point *W*:\n",
        "\n",
        "\\begin{align}\n",
        "        λ_i \\begin{pmatrix}\n",
        "        x_i \\\\ y_i \\\\ 1\n",
        "        \\end{pmatrix} = K_i \\begin{pmatrix}\n",
        "        R_i & t_i\n",
        "        \\end{pmatrix} \\begin{pmatrix}\n",
        "        u \\\\ v \\\\ w \\\\ 1\n",
        "        \\end{pmatrix}\n",
        "    \\end{align}\n",
        "\n",
        "1. Multiply both sides by K<sup>-1</sup> to remove K:\n",
        "\n",
        "\\begin{align}\n",
        "        λ_i \\begin{pmatrix}\n",
        "        x'_i \\\\ y'_i \\\\ 1\n",
        "        \\end{pmatrix} = \\begin{pmatrix}\n",
        "        R_i & t_i\n",
        "        \\end{pmatrix} \\begin{pmatrix}\n",
        "        u \\\\ v \\\\ w \\\\ 1\n",
        "        \\end{pmatrix}\n",
        "    \\end{align}\n",
        "\n",
        "2. λ is equivalent to the following equation from the matrix:\n",
        "\n",
        "\\begin{align}\n",
        "        λ_i = r_{i,3,1}u + r_{i,3,2}v + r_{i,3,3}w + t_{i,z}\n",
        "    \\end{align}\n",
        "\n",
        "3. Substitute for λ_i to get:\n",
        "\n",
        "\\begin{align}\n",
        "        \\begin{pmatrix}\n",
        "        (r_{i,3,1}u + r_{i,3,2}v + r_{i,3,3}w + t_{i,z})x'_i \\\\\n",
        "        (r_{i,3,1}u + r_{i,3,2}v + r_{i,3,3}w + t_{i,z})y'_i\n",
        "        \\end{pmatrix} = \\begin{pmatrix}\n",
        "        r_{i,1,1} & r_{i,1,2} & r_{i,1,3} & t_{i,x} \\\\\n",
        "        r_{i,2,1} & r_{i,2,2} & r_{i,2,3} & t_{i,y} \\\\\n",
        "        \\end{pmatrix} \\begin{pmatrix}\n",
        "        u \\\\ v \\\\ w \\\\ 1\n",
        "        \\end{pmatrix}\n",
        "    \\end{align}\n",
        "\n",
        "4. Rearrange into two linear equations with unknown W = [u, v, w]<sup>⊤</sup> and stack for each camera:\n",
        "\n",
        "\\begin{align}\n",
        "        \\begin{pmatrix}\n",
        "        r_{i,3,1}x'_i-r_{i,1,1} &\n",
        "        r_{i,3,2}x'_i-r_{i,1,2} &\n",
        "        r_{i,3,3}x'_i-r_{i,1,3} \\\\\n",
        "        r_{i,3,1}y'_i-r_{i,2,1} &\n",
        "        r_{i,3,2}y'_i-r_{i,2,2} &\n",
        "        r_{i,3,3}y'_i-r_{i,2,3} \\\\\n",
        "        ⋮ & ⋮ & ⋮ \\\\\n",
        "        r_{n,3,1}x'_n-r_{n,1,1} &\n",
        "        r_{n,3,2}x'_n-r_{n,1,2} &\n",
        "        r_{n,3,3}x'_n-r_{n,1,3} \\\\\n",
        "        r_{n,3,1}y'_n-r_{n,2,1} &\n",
        "        r_{n,3,2}y'_n-r_{n,2,2} &\n",
        "        r_{n,3,3}y'_n-r_{n,2,3} \\\\\n",
        "        \\end{pmatrix} \\begin{pmatrix}\n",
        "        u \\\\ v \\\\ w\n",
        "        \\end{pmatrix} = \\begin{pmatrix}\n",
        "        t_{i,x}-t_{i,z}x'_i \\\\\n",
        "        t_{i,y}-t_{i,z}y'_i \\\\\n",
        "        ⋮ \\\\\n",
        "        t_{n,x}-t_{n,z}x'_n \\\\\n",
        "        t_{n,y}-t_{n,z}y'_n \\\\\n",
        "        \\end{pmatrix}\n",
        "    \\end{align}"
      ],
      "metadata": {
        "id": "2Us6QP7Xs3xl"
      }
    },
    {
      "cell_type": "code",
      "source": [
        "# 3D reconstruction of point W\n",
        "def reconstruct_point(Xs, Ks, Rs, ts):\n",
        "  ncameras = Xs.shape[0]\n",
        "  A = np.empty((ncameras*2, 3))\n",
        "  B = np.empty((ncameras*2, 1))\n",
        "\n",
        "  for i in range(ncameras):\n",
        "    xy_prime = np.linalg.inv(Ks[i]) @ np.vstack((Xs[i,0], Xs[i,1], 1))\n",
        "    x, y, _ = xy_prime\n",
        "    x, y = x[0], y[0]\n",
        "    r = Rs[i]\n",
        "    t = ts[i]\n",
        "\n",
        "    A[i*2, :] = [r[2,0]*x-r[0,0], r[2,1]*x-r[0,1], r[2,2]*x-r[0,2]]\n",
        "    A[i*2+1,:] = [r[2,0]*y-r[1,0], r[2,1]*y-r[1,1], r[2,2]*y-r[1,2]]\n",
        "    B[i*2] = [t[0]-t[2]*x]\n",
        "    B[i*2+1] = [t[1]-t[2]*y]\n",
        "  W = np.linalg.lstsq(A, B)\n",
        "  return W[-1]"
      ],
      "metadata": {
        "id": "dWoSh17esuvQ"
      },
      "execution_count": null,
      "outputs": []
    },
    {
      "cell_type": "markdown",
      "source": [
        "### Planes"
      ],
      "metadata": {
        "id": "B5ySNoFe5E7z"
      }
    },
    {
      "cell_type": "markdown",
      "source": [
        "**Looking at Planes**\n",
        "\n",
        "Perspective projection of a world point *W* on a plane:\n",
        "\n",
        "\\begin{align}\n",
        "        W = \\begin{pmatrix} u \\\\ v \\\\ 0 \\end{pmatrix}\n",
        "    \\end{align}\n",
        "\n",
        "*w* can be removed from the world coordinate to give a simplified form of perspective projection:\n",
        "\n",
        "\\begin{align}\n",
        "        λ \\begin{pmatrix} x \\\\ y \\\\ 1 \\end{pmatrix} =\n",
        "        K \\begin{pmatrix}\n",
        "        r_{1,1} & r_{1,2} & t_x \\\\\n",
        "        r_{2,1} & r_{2,2} & t_y \\\\\n",
        "        r_{3,1} & r_{3,2} & t_z \\\\\n",
        "        \\end{pmatrix} \\begin{pmatrix}\n",
        "        u \\\\ v \\\\ 1\n",
        "        \\end{pmatrix}\n",
        "    \\end{align}\n",
        "\n",
        "**Homographies**\n",
        "\n",
        "Multiply by K<sup>-1</sup> and truncate [R t] matrices together gives a 3x3 matrix that translates between a point on a 3D plane and a point in a 2D image. This is the homography matrix, *H*:\n",
        "\n",
        "\\begin{align}\n",
        "        λ \\begin{pmatrix} x \\\\ y \\\\ 1 \\end{pmatrix} = \\begin{pmatrix}\n",
        "        h_{1,1} & h_{1,2} & h_{1,3} \\\\\n",
        "        h_{2,1} & h_{2,2} & h_{2,3} \\\\\n",
        "        h_{3,1} & h_{3,2} & h_{3,3} \\\\\n",
        "        \\end{pmatrix}\n",
        "        \\begin{pmatrix} u \\\\ v \\\\ 1 \\end{pmatrix}\n",
        "        = H \\begin{pmatrix} u \\\\ v \\\\ 1 \\end{pmatrix}\n",
        "    \\end{align}\n",
        "\n",
        "Divide by λ to get the Cartesian coordinates:\n",
        "\n",
        "\\begin{align}\n",
        "        λ  = h_{3,1}u + h_{3,2}v + h{3,3} \\\\[1em]\n",
        "        x = \\frac{h_{1,1}u+h_{1,2}v+h_{1,3}}{λ} \\\\\n",
        "        y = \\frac{h_{2,1}u+h_{2,2}v+h_{2,3}}{λ}\n",
        "    \\end{align}\n",
        "\n",
        "Homographies define a one-to-one map from plane to image:\n",
        "\n",
        "\\begin{align}\n",
        "        λ \\begin{pmatrix} x \\\\ y \\\\ 1 \\end{pmatrix}\n",
        "        = H \\begin{pmatrix} u \\\\ v \\\\ 1 \\end{pmatrix}\n",
        "    \\end{align}\n",
        "\n",
        "or image to plane:\n",
        "\n",
        "\\begin{align}\n",
        "        λ \\begin{pmatrix} u \\\\ v \\\\ 1 \\end{pmatrix}\n",
        "        = H^{-1} \\begin{pmatrix} x \\\\ y \\\\ 1 \\end{pmatrix}\n",
        "    \\end{align}\n",
        "\n",
        "3D-2D projection reduces to 2D-2D mapping. H only defined up to an unknown scale.\n",
        "\n",
        "**Computing a Homography**\n",
        "\n",
        "Given *n* pairs of corresponding points:\n",
        "\n",
        "\\begin{array}{cc}\n",
        "        (x_i,y_i) & \\iff & (u_i,v_i)\\\\\n",
        "        & ⋮ & \\\\\n",
        "        (x_n,y_n) & \\iff & (u_n,v_n)\n",
        "    \\end{array}\n",
        "\n",
        "Each corresponding point pair gives the equation:\n",
        "\n",
        "\\begin{align}\n",
        "        λ \\begin{pmatrix} x_i \\\\ y_i \\\\ 1 \\end{pmatrix} = \\begin{pmatrix}\n",
        "        h_{1,1} & h_{1,2} & h_{1,3} \\\\\n",
        "        h_{2,1} & h_{2,2} & h_{2,3} \\\\\n",
        "        h_{3,1} & h_{3,2} & h_{3,3} \\\\\n",
        "        \\end{pmatrix} \\begin{pmatrix} u_i \\\\ v_i \\\\ 1 \\end{pmatrix}\n",
        "    \\end{align}\n",
        "\n",
        "1. Using the Direct Linear Transform trick on the equation:\n",
        "\n",
        "\\begin{align}\n",
        "        \\begin{pmatrix} x_i \\\\ y_i \\\\ 1 \\end{pmatrix} × \\begin{pmatrix}\n",
        "        h_{1,1} & h_{1,2} & h_{1,3} \\\\\n",
        "        h_{2,1} & h_{2,2} & h_{2,3} \\\\\n",
        "        h_{3,1} & h_{3,2} & h_{3,3} \\\\\n",
        "        \\end{pmatrix} \\begin{pmatrix} u_i \\\\ v_i \\\\ 1 \\end{pmatrix} = \\begin{pmatrix} 0 \\\\ 0 \\\\ 0 \\end{pmatrix}\n",
        "    \\end{align}\n",
        "\n",
        "2. Rearrange the equation into a linear least squares problem, solve for unknown H with SVD:\n",
        "\n",
        "\\begin{align}\n",
        "        \\begin{pmatrix}\n",
        "        0 & 0 & 0 & -u_i & -v_i & -1 & y_iu_i & y_iv_i & y_i \\\\\n",
        "        u_i & v_i & 1 & 0 & 0 & 0 & -x_iu_i & -x_iv_i & -x_i \\\\\n",
        "        ⋮ & ⋮ & ⋮ & ⋮ & ⋮ & ⋮ & ⋮ & ⋮ & ⋮ \\\\\n",
        "        0 & 0 & 0 & -u_n & -v_n & -1 & y_nu_n & y_nv_n & y_n \\\\\n",
        "        u_n & v_n & 1 & 0 & 0 & 0 & -x_nu_n & -x_nv_n & -x_n \\\\\n",
        "        \\end{pmatrix} \\begin{pmatrix}\n",
        "        h_{1,1} \\\\ h_{1,2} \\\\ h_{1,3} \\\\\n",
        "        h_{2,1} \\\\ h_{2,2} \\\\ h_{2,3} \\\\\n",
        "        h_{3,1} \\\\ h_{3,2} \\\\ h_{3,3} \\\\\n",
        "        \\end{pmatrix} = 0\n",
        "    \\end{align}"
      ],
      "metadata": {
        "id": "ax98bftB5HD8"
      }
    },
    {
      "cell_type": "code",
      "source": [
        "# Get Homography\n",
        "def get_homography(Xs, Ws):\n",
        "  npnts = Xs.shape[0]\n",
        "  A = np.empty((npnts*2, 9))\n",
        "  for i in range(npnts):\n",
        "    x, y = Xs[i,:]\n",
        "    u, v = Ws[i,:]\n",
        "\n",
        "    A[i*2,:] = [0, 0, 0, -u, -v, -1, y*u, y*v, y]\n",
        "    A[i*2+1,:] = [u, v, 1, 0, 0, 0, -x*u, -x*v, -x]\n",
        "\n",
        "  H = np.linalg.svd(A)\n",
        "  return H[-1][-1,:].reshape((3, 3))"
      ],
      "metadata": {
        "id": "yO3IRKpxXdyR"
      },
      "execution_count": null,
      "outputs": []
    },
    {
      "cell_type": "markdown",
      "source": [
        "### Two View Geometry"
      ],
      "metadata": {
        "id": "yG2CDWOIZPJG"
      }
    },
    {
      "cell_type": "markdown",
      "source": [
        "**Fundamental Matrix**\n",
        "\n",
        "The relationship between points in one image to another in captured by the Fundamental Matrix which represents a line.\n",
        "\n",
        "\\begin{align}\n",
        "        \\begin{pmatrix}\n",
        "        x' & y' & 1\n",
        "        \\end{pmatrix} F \\begin{pmatrix}\n",
        "        x \\\\ y \\\\ 1\n",
        "        \\end{pmatrix} = 0\n",
        "    \\end{align}\n",
        "\n",
        "Where:\n",
        "\n",
        "\\begin{align}\n",
        "        F = K_2^{-⊤}EK_1^{-1}=K_2^{-⊤}[t] × RK_1^{-1}\n",
        "    \\end{align}\n",
        "- F : Fundamental Matrix\n",
        "- K<sub>1</sub> : Intrinsic Matrix of Camera 1\n",
        "- K<sub>2</sub> : Intrinsic Matrix of Camera 2\n",
        "- E = [t] × R : Essential Matrix, the cross product of t and R\n",
        "  - t : relative translation from Camera 1 to Camera 2\n",
        "  - R : relative rotation from Camera 1 to Camera 2\n",
        "\n",
        "**Fundamental Matrix Estimation**\n",
        "\n",
        "Given a set of point correspondences:\n",
        "\n",
        "\\begin{array}{cc}\n",
        "  (x_{1,i},y_{1,i}) & \\iff & (u_i, v_i) & \\iff & (x_{2,i},y_{2,i}) \\\\\n",
        "  ⋮ & & ⋮ & & ⋮ \\\\\n",
        "  (x_{1,n},y_{1,n}) & \\iff & (u_n, v_n) & \\iff & (x_{2,n},y_{2,n}) \\\\\n",
        "    \\end{array}\n",
        "\n",
        "Each corresponding point gives the equation:\n",
        "\n",
        "\\begin{align}\n",
        "        \\begin{pmatrix}\n",
        "        x_{2,i} & y_{2,i} & 1\n",
        "        \\end{pmatrix} \\begin{pmatrix}\n",
        "        f_{1,1} & f_{1,2} & f_{1,3} \\\\\n",
        "        f_{2,1} & f_{2,2} & f_{2,3} \\\\\n",
        "        f_{3,1} & f_{3,2} & f_{3,3} \\\\\n",
        "        \\end{pmatrix} \\begin{pmatrix}\n",
        "        x_{1,i} \\\\ y_{1,i} \\\\ 1\n",
        "        \\end{pmatrix} = 0\n",
        "    \\end{align}\n",
        "\n",
        "1. Rearrange to form a linear least squares problem and solve for F with SVD:\n",
        "\n",
        "\\begin{align}\n",
        "        Af = \\begin{pmatrix}\n",
        "        x_{2,i}x_{1,i} & x_{2,i}y_{1,i} & x_{2,i} & y_{2,i}x_{1,i} & y_{2,i}y_{1,i} & y_{2,i} & x_{1,i} & y_{1,i} & 1 \\\\\n",
        "        ⋮ & ⋮ & ⋮ & ⋮ & ⋮ & ⋮ & ⋮ & ⋮ & ⋮\\\\\n",
        "        x_{2,n}x_{1,n} & x_{2,n}y_{1,n} & x_{2,n} & y_{2,n}x_{1,n} & y_{2,n}y_{1,n} & y_{2,n} & x_{1,n} & y_{1,n} & 1 \\\\\n",
        "        \\end{pmatrix} \\begin{pmatrix}\n",
        "        f_{1,1} \\\\ f_{1,2} \\\\ f_{1,3} \\\\\n",
        "        f_{2,1} \\\\ f_{2,2} \\\\ f_{2,3} \\\\\n",
        "        f_{3,1} \\\\ f_{3,2} \\\\ f_{3,3} \\\\\n",
        "        \\end{pmatrix} = 0\n",
        "    \\end{align}"
      ],
      "metadata": {
        "id": "-mmnFJ7yZZGF"
      }
    },
    {
      "cell_type": "code",
      "source": [
        "# Fundamental Matrix Estimation\n",
        "def compute_F(X1, X2):\n",
        "  npnts = X1.shape[0]\n",
        "  A = np.empty((npnts, 9))\n",
        "\n",
        "  for i in range(npnts):\n",
        "    x1, y1 = X1[i,:]\n",
        "    x2, y2 = X2[i,:]\n",
        "    A[i,:] = [x2*x1, x2*y1, x2, y2*x1, y2*y1, y2, x1, y1]\n",
        "\n",
        "  f = np.linalg.svd(A)\n",
        "  f = f[-1][-1,:].reshape((3,3))\n",
        "\n",
        "  return f / f[2,2]"
      ],
      "metadata": {
        "id": "fjaSAF6ciYSW"
      },
      "execution_count": null,
      "outputs": []
    },
    {
      "cell_type": "markdown",
      "source": [
        "## Local Features, Corners and Descriptors"
      ],
      "metadata": {
        "id": "Ch_IFDC1ldSI"
      }
    },
    {
      "cell_type": "markdown",
      "source": [
        "### SIFT"
      ],
      "metadata": {
        "id": "ji21j-fylxPS"
      }
    },
    {
      "cell_type": "markdown",
      "source": [
        "**SIFT:** Scale-invariant Feature Transform is an algorithm for point based feature detection, description and matching.\n",
        "\n",
        "**Scale-space**\n",
        "\n",
        "An algorithm that searches over all scales and image locations to identify potential interest points.\n",
        "\n",
        "The scale-space of an image I(x,y) is defined as a function L(x,y,σ):\n",
        "\n",
        "\\begin{align}\n",
        "        L(x,y,σ) = G(x,y,σ) * I(x,y)\\\\[1em]\n",
        "        G(x,y,σ) = \\frac{1}{2πσ^2}e^{-(x^2+y^2)/2σ^2}\n",
        "    \\end{align}\n",
        "\n",
        "Implemented efficiently by using a difference-of-Gaussian D(x,y,σ):\n",
        "\n",
        "\\begin{array}{cl}\n",
        "        D(x,y,σ) & = (G(x,y,kσ)-G(x,y,σ))*I(x,y)\\\\\n",
        "        & = L(x,y,kσ) - L(x,y,σ)\n",
        "\\end{array}\n",
        "\n"
      ],
      "metadata": {
        "id": "kUgPzM1plzC-"
      }
    },
    {
      "cell_type": "markdown",
      "source": [
        "# Topic 3: Surface Reflectance and Rendering"
      ],
      "metadata": {
        "id": "X0dcnQBD9pUh"
      }
    },
    {
      "cell_type": "markdown",
      "source": [
        "## Surface Reflectance and BRDF models"
      ],
      "metadata": {
        "id": "cpJMvRZ39vrq"
      }
    },
    {
      "cell_type": "markdown",
      "source": [
        "**BRDF: Bidirectional Reflectance Distribution Function**\n",
        "\n",
        "A function to model the spectral distribution of reflected light and the directional distribution of the light.\n",
        "\n",
        "\\begin{align}\n",
        "        f_r(v_i, v_r) = \\frac{dL_r(v_r)}{dEi(v_i)} = \\frac{dL_r(v_r)}{L_i(v_i)cosθ_idω_i}\n",
        "    \\end{align}\n",
        "\n",
        "- L<sub>r</sub> : outgoing radiance\n",
        "- L<sub>i</sub> : incoming radiance\n",
        "- E<sub>i</sub> : incoming irradiance\n",
        "- v<sub>r</sub>, v<sub>i</sub> : the reflected and incident direction of the ray of light.\n",
        "- θ<sub>r</sub>, θ<sub>i</sub> : the viewing angle and mirror incident angle of light respect to the normal\n",
        "- dω<sub>r</sub>, dω<sub>i</sub> : the solid angle of the reflected and incident light.\n",
        "- The unit of measurement for a BRDF is inverse steradian (1/sr)\n",
        "\n",
        "**Halfway vector:** The halfway direction between the viewing direction and mirror direction of incoming light.\n",
        "\n",
        "\\begin{align}\n",
        "        h = \\frac{(v_i+v_r)}{||v_i+v_r||}\n",
        "    \\end{align}\n",
        "\n",
        "![picture](https://onlinelibrary.wiley.com/cms/asset/59d44032-42fc-4493-90b5-23c6afd7189b/cgf12867-fig-0002-m.png)\n",
        "\n",
        "**Coordinate System**\n",
        "\n",
        "- n : the normal to the surface\n",
        "- t : the tangent vector of the incoming light to the plane\n",
        "- b : the bi-tangent vector\n",
        "- θ is measured respect to the normal n\n",
        "- Φ is measured respect to the tangent, counter-clockwise\n",
        "- z-axis respect to n\n",
        "- y-axis respect to b\n",
        "- x-axis respect to t\n",
        "\n",
        "A coordinate can be written as:\n",
        "\n",
        "\\begin{array}{cc}\n",
        "        \\vec{v} = (θ_v,Φ_v) & \\vec{v} = (x_v, y_v, z_v)\n",
        "    \\end{array}\n",
        "\n",
        "**Fresnel Reflectance**\n",
        "\n",
        "The Fresnel effect predicts the fraction of power which is reflected and transmitted (refracted) as a function of the viewing angle.\n",
        "\n",
        "For unpolarised light, the Fresnel reflectance at the interface between the air and a surface is given by Maxwell's Equation:\n",
        "\n",
        "\\begin{align}\n",
        "        𝓕_M(ƞ, θ_i, θ_t) = \\frac{1}{2} \\left[ \\left(\\frac{ƞcosθ_i - cosθ_t}{ƞcosθ_i + cosθ_t}\\right)^2 + \\left(\\frac{cosθ_i - ƞcosθ_t}{cosθ_i + ƞcosθ_t}\\right)^2 \\right]\n",
        "    \\end{align}\n",
        "\n",
        "- ƞ is the index of refraction of the surface\n",
        "- θ<sub>i</sub> is the angle of incidence\n",
        "- θ<sub>t</sub> is the angle of transmission (refraction)\n",
        "\n",
        "In computer graphics, it is very common to use Schlick's approximation of the Fresnel reflectance:\n",
        "\n",
        "\\begin{array}{cl}\n",
        "        𝓕(θ) = 𝓕(0) + (1 - 𝓕(0))(1-cosθ)^5\\\\\n",
        "        𝓕(0) = \\left(\\frac{ƞ_1-ƞ_2}{ƞ_1+ƞ_2}\\right)^2\n",
        "    \\end{array}\n",
        "- 𝓕(0) is the reflectance at normal incidence\n",
        "- ƞ<sub>1</sub> is the index of refraction of the first medium\n",
        "- ƞ<sub>2</sub> is the index of refraction of the material"
      ],
      "metadata": {
        "id": "AHtvrMnfFc3O"
      }
    },
    {
      "cell_type": "code",
      "source": [
        "def halfway_vector(v_i, v_r):\n",
        "  return (v_i + v_r)/np.linalg.norm(v_i + v_r)\n",
        "\n",
        "# Convert between the BRDF coordinate systems\n",
        "def vector_coordinates(theta, phi):\n",
        "  z = np.cos(np.deg2rad(theta))\n",
        "\n",
        "  xy = np.sin(np.deg2rad(theta))\n",
        "  x = xy * np.cos(np.deg2rad(phi))\n",
        "  y = xy * np.sin(np.deg2rad(phi))\n",
        "\n",
        "  return x,y,z\n",
        "\n",
        "def vector_angles(x, y, z):\n",
        "  theta = np.arccos(z)\n",
        "  phi = np.arctan2(y, x)\n",
        "\n",
        "  return np.degrees(theta), np.degrees(phi)\n",
        "\n",
        "# Fresnel Effect\n",
        "def maxwell(ior, theta_i, theta_t):\n",
        "  return 0.5(np.square((ior*np.cos(theta_i) - np.cos(theta_t))/(ior*np.cos(theta_i) + np.cos(theta_t))) +\n",
        "             np.square((np.cos(theta_i) - ior*np.cos(theta_t))/(np.cos(theta_i) + ior*np.cos(theta_t))))\n",
        "\n",
        "def schlick(theta, n_2, n_1 = 1):\n",
        "  f_0 = np.square((n_1 - n_2)/(n_1 + n_2))\n",
        "  return f_0 + (1 - f_0)*np.power(1 - np.cos(np.deg2rad(theta)), 5)"
      ],
      "metadata": {
        "id": "EgaN0O0oqNDD",
        "colab": {
          "base_uri": "https://localhost:8080/"
        },
        "outputId": "3ba04ea3-0aa9-4fc2-ede7-e0810fcecbcf"
      },
      "execution_count": null,
      "outputs": [
        {
          "output_type": "stream",
          "name": "stderr",
          "text": [
            "<>:22: SyntaxWarning: 'float' object is not callable; perhaps you missed a comma?\n",
            "<>:22: SyntaxWarning: 'float' object is not callable; perhaps you missed a comma?\n",
            "<ipython-input-37-f790b7be2fe0>:22: SyntaxWarning: 'float' object is not callable; perhaps you missed a comma?\n",
            "  return 0.5(np.square((ior*np.cos(theta_i) - np.cos(theta_t))/(ior*np.cos(theta_i) + np.cos(theta_t))) +\n"
          ]
        }
      ]
    },
    {
      "cell_type": "markdown",
      "source": [
        "### Phenomenological BRDF models"
      ],
      "metadata": {
        "id": "ZdeoVSyc91gd"
      }
    },
    {
      "cell_type": "markdown",
      "source": [
        "**Phong Model**\n",
        "\n",
        "Model for non-Lambertian surfaces. The specular reflection is modelled by the means of:\n",
        "\n",
        "- k<sub>s</sub> a specular constant\n",
        "- v<sub>r</sub>, v<sub>i</sub> : the direction of the incident ray and viewing angle.\n",
        "- r<sub>vi</sub> : the mirror direction of the incident ray.\n",
        "- m : an exponent that controls the width of the specular lobe.\n",
        "\n",
        "\\begin{align}\n",
        "        f_r(\\vec{v_i}, \\vec{v_r}) = k_s(\\vec{v_r}·\\vec{r_{v_i}})^m\n",
        "    \\end{align}"
      ],
      "metadata": {
        "id": "v4fkk7LG96h-"
      }
    },
    {
      "cell_type": "code",
      "source": [
        "def phong(k, theta_i, phi_i, theta_r, phi_r, m):\n",
        "  vi_x, vi_y, vi_z = vector_coordinates(theta_i, phi_i)\n",
        "  vr_x, vr_y, vr_z = vector_coordinates(theta_r, phi_r)\n",
        "  v_i = np.array([vi_x, vi_y, vi_z])\n",
        "  v_r = np.array([vr_x, vr_y, vr_z])\n",
        "\n",
        "  n = np.array([0,0,1])\n",
        "  # calculate mirror vector\n",
        "  r_vi = v_i - 2 * np.dot(v_i, n) * n\n",
        "\n",
        "  return k * np.power(np.dot(v_r, r_vi), m)"
      ],
      "metadata": {
        "id": "xW0Gl6Jn0RJW"
      },
      "execution_count": null,
      "outputs": []
    },
    {
      "cell_type": "markdown",
      "source": [
        "**Blinn-Phong**\n",
        "\n",
        "A simple correction to the phong model. The mirror direction no longer needs to be calculated at each position of the scene.\n",
        "\n",
        "Blinn: when an orthographic camera is used, the halfway vector can be approximately considered to be constant accross the scene.\n",
        "\n",
        "\\begin{align}\n",
        "        f_r(\\vec{v_i}, \\vec{v_r}) = k_s(\\vec{v_r}·\\vec{h})^m\n",
        "    \\end{align}"
      ],
      "metadata": {
        "id": "aEHVNetC3kDM"
      }
    },
    {
      "cell_type": "code",
      "source": [
        "def blinn_phong(k, theta_i, phi_i, theta_r, phi_r, m):\n",
        "  vi_x, vi_y, vi_z = vector_coordinates(theta_i, phi_i)\n",
        "  vr_x, vr_y, vr_z = vector_coordinates(theta_r, phi_r)\n",
        "  v_i = np.array([vi_x, vi_y, vi_z])\n",
        "  v_r = np.array([vr_x, vr_y, vr_z])\n",
        "\n",
        "  h = halfway_vector(v_i, v_r)\n",
        "  return k * np.power(np.dot(v_r, h), m)"
      ],
      "metadata": {
        "id": "iu2OZu3A4Da9"
      },
      "execution_count": null,
      "outputs": []
    },
    {
      "cell_type": "markdown",
      "source": [
        "**Ward model**\n",
        "\n",
        "Combines specular and diffuse components of reflectance. There are four parameters:\n",
        "\n",
        "- ρ<sub>d</sub> and ρ<sub>s</sub> : diffuse and specular albedos\n",
        "- α<sub>x</sub> and α<sub>y</sub> : roughness - control the width of the Gaussian love in the two principle directions on anisotropy\n",
        "\n",
        "\\begin{align}\n",
        "        f_r(\\vec{v_i}, \\vec{v_r}) = \\frac{ρ_d}{π} + \\frac{\\rho_s}{4\\sqrt{cos\\theta_rcos\\theta_i}} ⋅ \\frac{e^{-\\frac{((\\vec{h}⋅\\vec{x})/a_x)^2+((\\vec{h}⋅\\vec{y})/a_y)^2}{(\\vec{h}⋅\\vec{n})^2}}}{\\pi\\alpha_x\\alpha_y}\n",
        "\\end{align}"
      ],
      "metadata": {
        "id": "4DPZsqxe4PAm"
      }
    },
    {
      "cell_type": "code",
      "source": [
        "def ward(theta_i, phi_i, theta_r, phi_r, rho_d, rho_s, alpha_x, alpha_y, x = np.array([1, 0, 0]), y = np.array([0, 1, 0]), n = np.array([0, 0, 1]), ):\n",
        "  \"\"\"\n",
        "    Compute the value of the Ward BRDF model, given the surface parameters and lighting and viewing directions.\n",
        "\n",
        "    Args:\n",
        "        theta_i: Polar angle of the incident light.\n",
        "        phi_i: Azimuthal angle of the incident light.\n",
        "        theta_r: Polar angle of the reflection.\n",
        "        phi_r: Azimuthal angle of the reflection.\n",
        "        x, y, n: Axis of the coordinate system.\n",
        "        rho_d: Diffuse albedo.\n",
        "        rho_s: Specular albedo.\n",
        "        alpha_x, alpha_y: Surface roughness parameters.\n",
        "\n",
        "    Returns:\n",
        "        BRDF value for the input parameters.\n",
        "    \"\"\"\n",
        "  vi_x, vi_y, vi_z = vector_coordinates(theta_i, phi_i)\n",
        "  vr_x, vr_y, vr_z = vector_coordinates(theta_r, phi_r)\n",
        "\n",
        "  v_i = np.array([vi_x, vi_y, vi_z])\n",
        "  v_r = np.array([vr_x, vr_y, vr_z])\n",
        "\n",
        "  h = halfway_vector(v_i, v_r)\n",
        "\n",
        "  specular_denominator =  4 * np.pi * alpha_x * alpha_y * np.sqrt(np.cos(np.deg2rad(theta_i)) * np.cos(np.deg2rad(theta_r)))\n",
        "  exponent = - (np.power((np.dot(h, x)/alpha_x), 2) + np.power((np.dot(h, y)/alpha_y), 2))/(np.power(np.dot(h, n), 2))\n",
        "  specular = (rho_s / specular_denominator) * np.exp(exponent)\n",
        "  diffuse = rho_d / np.pi\n",
        "\n",
        "  return diffuse + specular"
      ],
      "metadata": {
        "id": "1yF1UiQq8DoT"
      },
      "execution_count": null,
      "outputs": []
    },
    {
      "cell_type": "markdown",
      "source": [
        "**Ward - energy conservation**\n",
        "\n",
        "The Ward specular denominator is replaced by GMD's specular denominator which can model energy conservation.\n",
        "\n",
        "\\begin{align}\n",
        "        4\\sqrt{cos\\theta_rcos\\theta_i} ⇒ \\frac{2(1+cos\\theta_icos\\theta_r+sin\\theta_rcos(\\Phi_r-\\Phi_i))}{(cos\\theta_i+cos\\theta_r)^4}\n",
        "    \\end{align}"
      ],
      "metadata": {
        "id": "vfelP1Nt-30x"
      }
    },
    {
      "cell_type": "code",
      "source": [
        "def ward_energy_conservation(theta_i, phi_i, theta_r, phi_r, rho_d, rho_s, alpha_x, alpha_y, x = np.array([1, 0, 0]), y = np.array([0, 1, 0]), n = np.array([0, 0, 1]), ):\n",
        "  \"\"\"\n",
        "    Compute the value of the Ward BRDF model, given the surface parameters and lighting and viewing directions.\n",
        "\n",
        "    Args:\n",
        "        theta_i: Polar angle of the incident light.\n",
        "        phi_i: Azimuthal angle of the incident light.\n",
        "        theta_r: Polar angle of the reflection.\n",
        "        phi_r: Azimuthal angle of the reflection.\n",
        "        x, y, n: Axis of the coordinate system.\n",
        "        rho_d: Diffuse albedo.\n",
        "        rho_s: Specular albedo.\n",
        "        alpha_x, alpha_y: Surface roughness parameters.\n",
        "\n",
        "    Returns:\n",
        "        BRDF value for the input parameters.\n",
        "    \"\"\"\n",
        "  vi_x, vi_y, vi_z = vector_coordinates(theta_i, phi_i)\n",
        "  vr_x, vr_y, vr_z = vector_coordinates(theta_r, phi_r)\n",
        "\n",
        "  v_i = np.array([vi_x, vi_y, vi_z])\n",
        "  v_r = np.array([vr_x, vr_y, vr_z])\n",
        "\n",
        "  h = halfway_vector(v_i, v_r)\n",
        "\n",
        "  GMD = (2(1 + np.cos(np.deg2rad(theta_i))*np.cos(np.deg2rad(theta_r)) + np.sin(np.deg2rad(theta_i))*np.sin(np.deg2rad(theta_r))*np.cos(np.deg2rad(phi_r-phi_i))))/np.power((np.cos(np.deg2rad(theta_i))+np.cos(np.deg2rad(theta_r))), 4)\n",
        "  specular_denominator =  np.pi * alpha_x * alpha_y * GMD\n",
        "  exponent = - (np.power((np.dot(h, x)/alpha_x), 2) + np.power((np.dot(h, y)/alpha_y), 2))/(np.power(np.dot(h, n), 2))\n",
        "  specular = (rho_s / specular_denominator) * np.exp(exponent)\n",
        "  diffuse = rho_d / np.pi\n",
        "\n",
        "  return diffuse + specular"
      ],
      "metadata": {
        "id": "7WsGQO0X_s6R",
        "colab": {
          "base_uri": "https://localhost:8080/"
        },
        "outputId": "cd67304f-31ba-4a61-edbc-a2421167b2dc"
      },
      "execution_count": null,
      "outputs": [
        {
          "output_type": "stream",
          "name": "stderr",
          "text": [
            "<>:26: SyntaxWarning: 'int' object is not callable; perhaps you missed a comma?\n",
            "<>:26: SyntaxWarning: 'int' object is not callable; perhaps you missed a comma?\n",
            "<ipython-input-41-f142cc350c82>:26: SyntaxWarning: 'int' object is not callable; perhaps you missed a comma?\n",
            "  GMD = (2(1 + np.cos(np.deg2rad(theta_i))*np.cos(np.deg2rad(theta_r)) + np.sin(np.deg2rad(theta_i))*np.sin(np.deg2rad(theta_r))*np.cos(np.deg2rad(phi_r-phi_i))))/np.power((np.cos(np.deg2rad(theta_i))+np.cos(np.deg2rad(theta_r))), 4)\n"
          ]
        }
      ]
    },
    {
      "cell_type": "markdown",
      "source": [
        "### Physically-based Models\n",
        "\n",
        "**Microfacets theory**\n",
        "\n",
        "This assumes that the surface is rough at a fine scale and can be described by a collection of planar micro facets.\n",
        "\n",
        "The most common model:\n",
        "\n",
        "\\begin{align}\n",
        "        f_r(\\vec{v_i},\\vec{v_r}) = \\frac{D(...)⋅G(...)⋅𝓕(...)}{k(\\vec{v_i},\\vec{v_r})}\n",
        "    \\end{align}\n",
        "\n",
        "- D is the distribution of the size and direction of the microfacets. Only the fraction of the facets oriented in the direction of h contributes to the reflection.\n",
        "- G is the geometrical attenuation term (models shadowing and masking)\n",
        "- 𝓕 is the Fresnel term\n",
        "- k is some normalisation constant; often k=4\n",
        "\n",
        "**Microfacets distribution**\n",
        "\n",
        "The distribution D must be normalised.\n",
        "\n",
        "1. Take into account a microfacet with the normal direction h and area dA<sub>h</sub>. It's projected area on the macro-surface respect to the normal n is dA:\n",
        "\n",
        "\\begin{align}\n",
        "        dA = (n⋅h)dA_h\n",
        "    \\end{align}\n",
        "\n",
        "2. The sum of all microfacet areas ∑dA<sub>h</sub> must be equal to the macro-surface area A.\n",
        "\n",
        "3. Therefore, if A=1, the following integral over the hemisphere must be equal to 1:\n",
        "\n",
        "\\begin{align}\n",
        "        ∫_{Ω^2} D(h)(n⋅h)dω_h = 1\n",
        "    \\end{align}\n",
        "where h∈Ω<sup>2</sup>, dω<sub>h</sub> is a small solid angle around h.\n",
        "\n",
        "The above integral represents the probability of having a microfacet normal within dω<sub>h</sub> from h."
      ],
      "metadata": {
        "id": "brSi_alVApYk"
      }
    },
    {
      "cell_type": "code",
      "source": [
        "def projected_area(n, h, dA_h):\n",
        "  return dA_h*np.dot(n, h)"
      ],
      "metadata": {
        "id": "nCV17SEnZcbD"
      },
      "execution_count": null,
      "outputs": []
    },
    {
      "cell_type": "markdown",
      "source": [
        "**Cook-Torrance model**\n",
        "\n",
        "The model takes into account both specular and diffuse reflections, the latter modelled as Lambertian reflection.\n",
        "\n",
        "The specular component assumed that only a fraction of the facets oriented in the direction h contributes to the final reflection.\n",
        "\n",
        "These factors are modelled respectively through the functions D, G and F:\n",
        "\n",
        "\\begin{align}\n",
        "        f_r(\\vec{v_i},\\vec{v_r}) = \\frac{ρ_d}{\\pi} +\n",
        "        \\frac{D(\\vec{h})⋅G(\\vec{v_i},\\vec{v_r})⋅F(θ_r)}{πcosθ_rcosθ_i}\n",
        "    \\end{align}\n",
        "\n",
        "**Cook-Torrance: microfacets distribution**\n",
        "\n",
        "Beckmann distribution:\n",
        "\n",
        "\\begin{align}\n",
        "        D(\\vec{h}) = \\frac{ e^{ -\\left(\\frac{tan\\theta_h}{σ}\\right)^2 } }{ 4σ^2(cos\\theta_h)^4 }\n",
        "    \\end{align}\n",
        "\n",
        "- σ : Root Mean Square slope of the microfacets.\n",
        "\n",
        "**Cook-Torrance: geometric attenuation**\n",
        "\n",
        "- Case 1 - micro-surface fully illuminated and visible:\n",
        "\n",
        "\\begin{align}\n",
        "        G = 1\n",
        "    \\end{align}\n",
        "\n",
        "- Case 2 - partial masking:\n",
        "\n",
        "\\begin{align}\n",
        "        G(\\vec{v_i},\\vec{v_r},\\vec{h}, \\vec{n}) =\n",
        "        \\frac{2(\\vec{h}⋅\\vec{n})(\\vec{n}⋅\\vec{v_r})}\n",
        "        {\\vec{v_r}⋅\\vec{h}}\n",
        "    \\end{align}\n",
        "\n",
        "- Case 3 - partial shadowing:\n",
        "\n",
        "\\begin{align}\n",
        "        G(\\vec{v_i},\\vec{v_r},\\vec{h}, \\vec{n}) =\n",
        "        \\frac{2(\\vec{h}⋅\\vec{n})(\\vec{n}⋅\\vec{v_i})}\n",
        "        {\\vec{v_r}⋅\\vec{h}}\n",
        "    \\end{align}\n",
        "\n",
        "Overall:\n",
        "\n",
        "\\begin{align}\n",
        "        G(\\vec{v_i},\\vec{v_r},\\vec{h}, \\vec{n}) = min\\left(1, \\frac{2(\\vec{h}⋅\\vec{n})(\\vec{n}⋅\\vec{v_r})}\n",
        "        {\\vec{v_r}⋅\\vec{h}},\n",
        "        \\frac{2(\\vec{h}⋅\\vec{n})(\\vec{n}⋅\\vec{v_i})}\n",
        "        {\\vec{v_r}⋅\\vec{h}} \\right)\n",
        "    \\end{align}\n",
        "\n",
        "**Cook-Torrance: Fresnel term**\n",
        "\n",
        "The Fresnel reflectance of the polished microfacets is approximated with the expression:\n",
        "\n",
        "\\begin{array}{cr}\n",
        "        𝓕 = \\frac{(g-c)^2}{2(g+c)^2} \\left(\n",
        "          1 + \\frac{(c(g+c)-1)^2}{(c(g-c)-1)^2}\n",
        "          \\right)\\\\\n",
        "        c = \\vec{v_r}⋅\\vec{h}=cosθ_d\\\\\n",
        "        g = ƞ^2 + c^2 - 1\n",
        "    \\end{array}\n"
      ],
      "metadata": {
        "id": "gHCiOZg5Z3dT"
      }
    },
    {
      "cell_type": "code",
      "source": [
        "def cook_torrance(rho_d, theta_i, phi_i, theta_r, phi_r, ior, sigma):\n",
        "  vi_x, vi_y, vi_z = vector_coordinates(theta_i, phi_i)\n",
        "  vr_x, vr_y, vr_z = vector_coordinates(theta_r, phi_r)\n",
        "  v_i = np.array([vi_x, vi_y, vi_z])\n",
        "  v_r = np.array([vr_x, vr_y, vr_z])\n",
        "\n",
        "  n = np.array([0,0,1])\n",
        "  h = halfway_vector(v_i, v_r)\n",
        "  theta_h = np.arccos(np.dot(n,h))\n",
        "  c = np.dot(v_r, h)\n",
        "  g = np.square(ior) + np.square(c) - 1\n",
        "\n",
        "  F = (np.square(g-c)/(2*np.square(g+c)))*(1+(np.square(c*(g+c)-1)/np.square(c*(g-c)+1)))\n",
        "  G = min(\n",
        "      1,\n",
        "      (2*np.dot(n,h)*np.dot(n,v_r))/np.dot(v_r, h),\n",
        "      (2*np.dot(n,h)*np.dot(n,v_i))/np.dot(v_r, h)\n",
        "  )\n",
        "  D = np.exp(-np.square((np.tan(theta_h)/sigma),2))/(4*np.square(sigma)*np.power(np.cos(theta_h),4))\n",
        "\n",
        "  specular_term = (D*G*F)/(np.pi*np.cos(np.deg2rad(theta_r))*np.cos(np.deg2rad(theta_i)))\n",
        "  diffuse_term = rho_d/np.pi\n",
        "\n",
        "  return diffuse_term + specular_term"
      ],
      "metadata": {
        "id": "uyMhU2TjoFNx"
      },
      "execution_count": null,
      "outputs": []
    },
    {
      "cell_type": "markdown",
      "source": [
        "**GGX model**\n",
        "\n",
        "It is actually a BSDF model, since it extends the microfacets theory below the surface.\n",
        "\n",
        "**GGX model - distribution term**\n",
        "\n",
        "It makes use of the Trowbridge-Reitz distribution:\n",
        "\n",
        "\\begin{align}\n",
        "        D(\\vec{h}) = \\frac{α_g^2𝑋^+(\\vec{h}⋅\\vec{n})}{π(cosθ_h)^4(α_g^2+(tanθ_h)^2)^2}\\\\\n",
        "    \\end{align}\n",
        "Where:\n",
        "\\begin{align}\n",
        "        α_g \\text{ is a width parameter}\\\\[1em]\n",
        "        𝑋^+(x) = \\left\\{\\begin{array}{cc}\n",
        "        1 & if & x > 0\\\\\n",
        "        0 & if & x ≤ 0\n",
        "        \\end{array}\\right.\n",
        "    \\end{align}\n",
        "\n",
        "**GGX model - attenuation term**\n",
        "\n",
        "The shadowing and masking term has been derived from the microfacets distribution D:\n",
        "\n",
        "\\begin{align}\n",
        "        G(\\vec{v_i},\\vec{v_r},\\vec{h}, \\vec{n}) ≈ G_1(\\vec{v_i},\\vec{h}, \\vec{n})×G_1(\\vec{v_r},\\vec{h}, \\vec{n})\n",
        "    \\end{align}\n",
        "\n",
        "where:\n",
        "\n",
        "\\begin{align}\n",
        "        G_1(\\vec{v},\\vec{h},\\vec{n}) = 𝑋^+\\left(\\frac{\\vec{v}⋅\\vec{h}}{\\vec{v}⋅\\vec{n}}\\right)\\frac{2}{1+\\sqrt{1+α_g^2+(tanθ_v)^2}}\n",
        "    \\end{align}\n",
        "\n",
        "**GGX model - Fresnel term**\n",
        "\n",
        "The Frenel term is the same one used in Cook-Torrance."
      ],
      "metadata": {
        "id": "Rtn5GmsduFLU"
      }
    },
    {
      "cell_type": "code",
      "source": [
        "def X_plus(x):\n",
        "  if x > 0:\n",
        "    return 1\n",
        "  else:\n",
        "    return 0\n",
        "\n",
        "def G1(v, h, n, alpha_g):\n",
        "  theta, phi = vector_angles(v[0], v[1], v[2])\n",
        "\n",
        "  term1 = X_plus(np.dot(v,h)/np.dot(v,n))\n",
        "  term2 = 2/(1+np.sqrt(1+np.square(alpha_g)+np.square(np.tan(np.deg2rad(theta)))))\n",
        "\n",
        "  return term1 * term2\n",
        "\n",
        "def ggx_model(rho_d, theta_i, phi_i, theta_r, phi_r, alpha_g, ior):\n",
        "  vi_x, vi_y, vi_z = vector_coordinates(theta_i, phi_i)\n",
        "  vr_x, vr_y, vr_z = vector_coordinates(theta_r, phi_r)\n",
        "  v_i = np.array([vi_x, vi_y, vi_z])\n",
        "  v_r = np.array([vr_x, vr_y, vr_z])\n",
        "\n",
        "  n = np.array([0,0,1])\n",
        "  h = halfway_vector(v_i, v_r)\n",
        "  theta_h = np.arccos(np.dot(n,h))\n",
        "  c = np.dot(v_r, h)\n",
        "  g = np.square(ior) + np.square(c) - 1\n",
        "\n",
        "  F = (np.square(g-c)/(2*np.square(g+c)))*(1+(np.square(c*(g+c)-1)/np.square(c*(g-c)+1)))\n",
        "  G = G1(v_i, h, n, alpha_g)*G1(v_r, h, n, alpha_g)\n",
        "  D = (np.square(alpha_g)*X_plus(np.dot(h,n)))/(np.pi*np.power(np.cos(theta_h),4)*np.square(np.square(alpha_g)+np.square(np.tan(theta_h))))\n",
        "\n",
        "  specular_term = (D*G*F)/(np.pi*np.cos(np.deg2rad(theta_r))*np.cos(np.deg2rad(theta_i)))\n",
        "  diffuse_term = rho_d/np.pi\n",
        "\n",
        "  return diffuse_term + specular_term"
      ],
      "metadata": {
        "id": "x4FpQHvWuEdV"
      },
      "execution_count": null,
      "outputs": []
    },
    {
      "cell_type": "markdown",
      "source": [
        "**Oren-Nayar model**\n",
        "\n",
        "This model makes us of Lambertian diffuse microfacets to model rough, diffuse surfaces.\n",
        "\n",
        "Given the surface roughness σ, the reflectance can be computed as follow:\n",
        "\n",
        "\\begin{align}\n",
        "        f_r(\\vec{v_i},\\vec{v_r}) = \\frac{\\rho_d}{\\pi}(A+B × max(0, cos(\\Phi_i-\\Phi_r)) × sin\\alpha × tan\\beta)\n",
        "    \\end{align}\n",
        "Where:\n",
        "\\begin{array}{l}\n",
        "        A = 1 - \\left[\\frac{\\sigma^2/2}{\\sigma^2+\\frac{1}{3}}\\right]\\\\\n",
        "        B = \\frac{\\frac{9}{10}\\sigma^2}{\\sigma^2+\\frac{9}{100}}\\\\\n",
        "        \\alpha = max(\\theta_r, \\theta_i)\\\\\n",
        "        \\beta = min(\\theta_r, \\theta_i)\n",
        "    \\end{array}"
      ],
      "metadata": {
        "id": "_NTc7enW4Hny"
      }
    },
    {
      "cell_type": "code",
      "source": [
        "def oren_nayar(rho_d, theta_i, phi_i, theta_r, phi_r, sigma):\n",
        "  vi_x, vi_y, vi_z = vector_coordinates(theta_i, phi_i)\n",
        "  vr_x, vr_y, vr_z = vector_coordinates(theta_r, phi_r)\n",
        "  v_i = np.array([vi_x, vi_y, vi_z])\n",
        "  v_r = np.array([vr_x, vr_y, vr_z])\n",
        "\n",
        "  n = np.array([0,0,1])\n",
        "  h = halfway_vector(v_i, v_r)\n",
        "  theta_h = np.arccos(np.dot(n,h))\n",
        "  A = 1 - ((np.square(sigma)/2)/(1/3)+np.square(sigma))\n",
        "  B = ((9/10)*np.square(sigma))/(np.square(sigma)+(9/100))\n",
        "  alpha = max(theta_r, theta_i)\n",
        "  beta = min(theta_r, theta_i)\n",
        "\n",
        "  diffuse_term = rho_d/np.pi\n",
        "  specular_term = (A + B*max(0, np.cos(np.deg2rad(phi_i - phi_r)))*np.sin(np.deg2rad(alpha))*np.tan(np.deg2rad(beta)))\n",
        "  return diffuse_term * specular_term"
      ],
      "metadata": {
        "id": "28OJf7887djC"
      },
      "execution_count": null,
      "outputs": []
    },
    {
      "cell_type": "code",
      "source": [
        "theta_r = np.degrees(np.pi/4)\n",
        "phi_r = np.degrees(3*np.pi/2)\n",
        "\n",
        "theta_i = np.degrees(np.pi/4)\n",
        "phi_i = np.degrees(np.pi/2)\n",
        "\n",
        "rho_d = 0.6\n",
        "sigma = np.pi/6\n",
        "\n",
        "vi_x, vi_y, vi_z = vector_coordinates(theta_i, phi_i)\n",
        "vr_x, vr_y, vr_z = vector_coordinates(theta_r, phi_r)\n",
        "v_i = np.array([vi_x, vi_y, vi_z])\n",
        "v_r = np.array([vr_x, vr_y, vr_z])\n",
        "\n",
        "print(f\"Halfway Vector = {halfway_vector(v_i, v_r)}\")\n",
        "print(f\"BRDF = {oren_nayar(rho_d, theta_i, phi_i, theta_r, phi_r, sigma)}\")"
      ],
      "metadata": {
        "colab": {
          "base_uri": "https://localhost:8080/"
        },
        "id": "eD-erhhAZ36-",
        "outputId": "be994fbd-8222-4720-b66b-f96e80c11081"
      },
      "execution_count": null,
      "outputs": [
        {
          "output_type": "stream",
          "name": "stdout",
          "text": [
            "Halfway Vector = [-6.123234e-17  0.000000e+00  1.000000e+00]\n",
            "BRDF = 0.060086237810699696\n"
          ]
        }
      ]
    },
    {
      "cell_type": "code",
      "source": [
        "# vector set 2\n",
        "v_r = np.hstack((-0.936, -0.341, 0.087))\n",
        "v_i = np.hstack((-0.168, -0.951, 0.259))\n",
        "\n",
        "rho_d = 0.9\n",
        "sigma = 2*np.pi/9\n",
        "theta_i, phi_i = vector_angles(-0.168, -0.951, 0.259)\n",
        "theta_r, phi_r = vector_angles(-0.936, -0.341, 0.087)\n",
        "print(f\"Halfway Vector = {halfway_vector(v_i, v_r)}\")\n",
        "print(f\"BRDF = {oren_nayar(rho_d, theta_i, phi_i, theta_r, phi_r, sigma)}\")"
      ],
      "metadata": {
        "colab": {
          "base_uri": "https://localhost:8080/"
        },
        "id": "HyhUoPDDc8HN",
        "outputId": "06b84053-2894-47c6-ffc5-a74be29f2dce"
      },
      "execution_count": null,
      "outputs": [
        {
          "output_type": "stream",
          "name": "stdout",
          "text": [
            "Halfway Vector = [-0.63656812 -0.74496921  0.19950414]\n",
            "BRDF = 0.3421325824009256\n"
          ]
        }
      ]
    },
    {
      "cell_type": "markdown",
      "source": [
        "## Rendering Equation and Ray Casting"
      ],
      "metadata": {
        "id": "xmL6QwiILLko"
      }
    },
    {
      "cell_type": "markdown",
      "source": [
        "**Phong model - revised**\n",
        "\n",
        "Phong - Original:\n",
        "\n",
        "\\begin{array}{l}\n",
        "        f_r(\\vec{v_i}, \\vec{v_r}) = k_s(\\vec{v_r}·\\vec{r_{v_i}})^m\\\\\n",
        "        f_r(\\vec{v_i}, \\vec{v_r}) = \\frac{k_d}{\\pi}+k_s(\\vec{v_r}·\\vec{r_{v_i}})^m\\\\\n",
        "    \\end{array}\n",
        "\n",
        "Modified Phong:\n",
        "\\begin{array}{l}\n",
        "        f_r(\\vec{v_i}, \\vec{v_r}) = \\frac{k_d}{\\pi}+k_s\\frac{m+2}{2\\pi}(\\vec{v_r}·\\vec{r_{v_i}})^m\\\\\n",
        "    \\end{array}"
      ],
      "metadata": {
        "id": "3ClQO9qELP3j"
      }
    },
    {
      "cell_type": "code",
      "source": [
        "def modified_phong(k_s, k_d, theta_i, phi_i, theta_r, phi_r, m):\n",
        "  vi_x, vi_y, vi_z = vector_coordinates(theta_i, phi_i)\n",
        "  vr_x, vr_y, vr_z = vector_coordinates(theta_r, phi_r)\n",
        "  v_i = np.array([vi_x, vi_y, vi_z])\n",
        "  v_r = np.array([vr_x, vr_y, vr_z])\n",
        "\n",
        "  n = np.array([0,0,1])\n",
        "  # calculate mirror vector\n",
        "  r_vi = v_i - 2 * np.dot(v_i, n) * n\n",
        "\n",
        "  diffuse_term = k_d/np.pi\n",
        "  specular_term = k_s * ((m+2)/(2*np.pi)) * np.power(np.dot(v_r, r_vi), m)\n",
        "\n",
        "  return diffuse_term + specular_term"
      ],
      "metadata": {
        "id": "QaavfbmrJ2FC"
      },
      "execution_count": null,
      "outputs": []
    },
    {
      "cell_type": "markdown",
      "source": [
        "**The reflection equation**\n",
        "\n",
        "This equation describes the relationship between the incident and reflected radiance. It is known as local illumination model.\n",
        "\n",
        "\\begin{array}{l}\n",
        "        f_r(p,\\vec{v_i}, \\vec{v_r}) = \\frac{dL_r(p,\\vec{v_r})}{L_i(p,\\vec{v_i})(\\vec{n}⋅\\vec{v_i})dω_i} \\\\→ dL_r(p,\\vec{v_r}) = f_r(p,\\vec{v_i}, \\vec{v_r})L_i(p,\\vec{v_i}(\\vec{n}⋅\\vec{v_i})dω_i)\\\\\n",
        "        \\text{where:}\\\\\n",
        "        Lr(p,\\vec{v_r}) = ∫_{Ω+}L_i(p,\\vec{v_i}) f_r(p,\\vec{v_i}, \\vec{v_r})(\\vec{n}⋅\\vec{v_i})dω_i)\\\\\n",
        "        L_o(p,\\vec{v_r}) = L_e(p,\\vec{v_r})+L_r(p,\\vec{v_r})\n",
        "    \\end{array}\n",
        "\n",
        "  - L<sub>o</sub> = total outgoing radiance towards the viewer\n",
        "  - L<sub>e</sub> = emitted radiance\n",
        "  - L<sub>r</sub> = reflected radiance\n",
        "  - p = point of reflection/emission\n",
        "\n",
        "\n",
        "  **Refraction**\n",
        "\n",
        " Snell's law: ƞ<sub>1</sub>sinθ<sub>1</sub> = ƞ<sub>2</sub>sinθ<sub>2</sub>\n",
        "\n",
        " **Rays**\n",
        "\n",
        " In rendering, a ray is specified as an interval on a line:\n",
        "\n",
        " \\begin{array}{l}\n",
        "        point(t) = origin + t * direction\\\\\n",
        "        B = A+t*direction\n",
        "    \\end{array}\n",
        "  \n",
        "Ray casting function *r* is given a point *p* and a direction *v*, returns *p'*, the point on the closest surface from p in the direction of *v*:\n",
        "\n",
        " \\begin{array}{l}\n",
        "        r(p,\\vec{v}) = p'\n",
        "    \\end{array}\n",
        "\n"
      ],
      "metadata": {
        "id": "Tew3-JucvNGv"
      }
    },
    {
      "cell_type": "markdown",
      "source": [
        "### Light sources\n"
      ],
      "metadata": {
        "id": "Cqv1SUUcNuq9"
      }
    },
    {
      "cell_type": "markdown",
      "source": [
        "**Equirectangular map**\n",
        "\n",
        "Mapping coordinates from unit direction in the world (e.g. Sphere) to Equirectangular image(Latitud-longitude):\n",
        "\n",
        "1. (u,v) coordinates in the image, with u ∈ [0,2], v ∈ [0,1]\n",
        "2. D = (D<sub>x</sub>,D<sub>y</sub>,D<sub>z</sub>) unit direction in the world (sphere)\n",
        "3.Coordinate system:\n",
        "  - [0,0,1] = right-handed\n",
        "  - [1,0,0] = forward\n",
        "  - [0,1,0] = up\n",
        "4. Mapping equation:\n",
        "\n",
        "\\begin{align}\n",
        "        (u,v) = (1+\\frac{1}{π}atan2(D_x,-D_z),\\frac{1}{π}cos^{-1}D_y)\n",
        "    \\end{align}"
      ],
      "metadata": {
        "id": "P8dB0GFE31Eb"
      }
    },
    {
      "cell_type": "code",
      "source": [
        "def equirectangular_map(D_x, D_y, D_z):\n",
        "  u = 1 + (1/np.pi)*(np.arctan2(D_x, -D_z))\n",
        "  v = (1/np.pi)*(np.arccos(D_y))\n",
        "  return u,v"
      ],
      "metadata": {
        "id": "doYEVx9_5Vgb"
      },
      "execution_count": null,
      "outputs": []
    },
    {
      "cell_type": "markdown",
      "source": [
        "### Rays and Reflection\n",
        "\n",
        "**Rays**\n",
        "\n",
        "- A ray has an origin p<sub>0</sub> and direction d, where |d| = 1:\n",
        "- Any point along the path of the ray p<sub>t</sub> can be calculated by:\n",
        "\n",
        "\\begin{array}{l}\n",
        "        p_t = p_0 + t\\vec{d}\\\\\n",
        "        p_{t,x} = p_{0,x} + td_x\\\\\n",
        "        p_{t,y} = p_{0,y} + td_y\\\\\n",
        "        p_{t,z} = p_{0,z} + td_z\n",
        "    \\end{array}\n",
        "\n"
      ],
      "metadata": {
        "id": "RAgzlCIU6RBY"
      }
    },
    {
      "cell_type": "code",
      "source": [
        "def ray(t, p_0, d):\n",
        "  p_x, p_y, p_z = p_0[0], p_0[1], p_0[2]\n",
        "  d_x, d_y, d_z = d[0], d[1], d[2]\n",
        "\n",
        "  x = p_x + t*d_x\n",
        "  y = p_y + t*d_y\n",
        "  z = p_z + t*d_z\n",
        "\n",
        "  return x,y,z"
      ],
      "metadata": {
        "id": "8zcKHyn5L6qX"
      },
      "execution_count": null,
      "outputs": []
    },
    {
      "cell_type": "markdown",
      "source": [
        "**Specular Reflection**\n",
        "\n",
        "Given a ray with direction d, the reflected direction will be r<sub>d</sub> at the normal to the surface.\n",
        "\n",
        "Where\n",
        "- ||d|| = 1 and ||n|| = 1:\n",
        "- d' = -d\n",
        "- r<sub>d</sub> is the mirror direction of d'\n",
        "- θ is the angle between d' and n: (d'⋅n)\n",
        "\n",
        "\\begin{align}\n",
        "        r_d = d - 2(n⋅d)n\n",
        "    \\end{align}"
      ],
      "metadata": {
        "id": "LRT-gf9jMbH0"
      }
    },
    {
      "cell_type": "code",
      "source": [
        "def specular_reflection(d, n):\n",
        "  return d - 2*np.dot(n,d)*n"
      ],
      "metadata": {
        "id": "MLzEi6kRPOoS"
      },
      "execution_count": null,
      "outputs": []
    },
    {
      "cell_type": "markdown",
      "source": [
        "### Ray-Sphere intersection\n"
      ],
      "metadata": {
        "id": "AroZwSayQAsZ"
      }
    },
    {
      "cell_type": "markdown",
      "source": [
        "\n",
        "A point S on a sphere given in parametric form is:\n",
        "\n",
        "\\begin{align}\n",
        "        S(θ,Φ) = r(sinθcosΦ, sinθsinΦ, cosθ)\n",
        "    \\end{align}\n",
        "\n",
        "All points on a sphere are at the same distance from the centre (x<sub>c</sub>,y<sub>c</sub>,z<sub>c</sub>)\n",
        "\n",
        "A point on a sphere given in implicit form:\n",
        "\n",
        "\\begin{array}{l}\n",
        "        r = \\sqrt{(x-x_c)^2 + (y-y_c)^2 + (z-z_c)^2}\\\\\n",
        "        (x-x_c)^2 + (y-y_c)^2 + (z-z_c)^2 - r^2 = 0\n",
        "    \\end{array}\n",
        "\n",
        "**Intersecting implicit with parametric**\n",
        "\n",
        "1. Ray:\n",
        "\\begin{align}\n",
        "          p_t = p_0 + t\\vec{d} \\left\\{\\begin{array}{l}\n",
        "          p_{t,x} = p_{0,x} + td_x\\\\\n",
        "          p_{t,y} = p_{0,y} + td_y\\\\\n",
        "          p_{t,z} = p_{0,z} + td_z\n",
        "          \\end{array}\\right.\n",
        "    \\end{align}\n",
        "\n",
        "2. Substitute into point on the sphere's implicit form:\n",
        "\\begin{array}{l}\n",
        "        (p_{0,x} + td_x-x_c)^2 + (p_{0,y} + td_y-y_c)^2 + ( p_{0,z} + td_z-z_c)^2 - r^2 = 0\n",
        "    \\end{array}\n",
        "\n",
        "3. Rewrite form as a quadratic at<sup>2</sup> + bt + c = 0:\n",
        "\\begin{array}{l}\n",
        "        a = d_x^2 + d_y^2 + d_z^2\\\\\n",
        "        b = 2(d_x(p_{0,x} - x_c) + d_y(p_{0,y} - y_c) + d_z(p_{0,z} - z_c))\\\\\n",
        "        c = (p_{0,x} - x_c)^2 + (p_{0,y} - y_c)^2 + (p_{0,z} - z_c)^2 - r^2\n",
        "    \\end{array}\n",
        "\n",
        "4. Check how many intersections between the ray and sphere:\n",
        "\\begin{array}{l}\n",
        "        at^2 + bt +c = 0 → t = \\frac{-b±\\sqrt{b^2-4ac}}{2}\\\\\n",
        "        \\text{where:}\\\\\n",
        "        b^2-4ac < 0 = \\text{none}\\\\\n",
        "        b^2-4ac = 0 = \\text{one}\\\\\n",
        "        b^2-4ac > 0 = \\text{two}\n",
        "    \\end{array}\n"
      ],
      "metadata": {
        "id": "WpZ29zjbwrl0"
      }
    },
    {
      "cell_type": "code",
      "source": [
        "def ray_sphere_intersection(p_0, d, x_c, y_c, z_c, r):\n",
        "  p_x, p_y, p_z = p_0[0], p_0[1], p_0[2]\n",
        "  d_x, d_y, d_z = d[0], d[1], d[2]\n",
        "\n",
        "  a = np.sum(np.square(d))\n",
        "  b = 2*((d_x*(p_x-x_c)) + d_y*(p_y-y_c) + d_z*(p_z-z_c))\n",
        "  c = np.square(p_x-x_c) + np.square(p_y-y_c) + np.square(p_z-z_c) - np.square(r)\n",
        "\n",
        "  sqrt_term = np.square(b) - 4*a*c\n",
        "  print(f\"a = {a}, b = {b}, c = {c}, sqrt(b^2 - 4ac) = {sqrt_term}\")\n",
        "\n",
        "  if sqrt_term < 0:\n",
        "    print(\"No intersect\")\n",
        "    return None\n",
        "  if sqrt_term == 0:\n",
        "    t = -b/2\n",
        "    print(f\"One intersect: t={t}\")\n",
        "    return ray(t, p_0, d)\n",
        "  if sqrt_term > 0:\n",
        "    t_0 = (-b-np.sqrt(sqrt_term))/2\n",
        "    t_1 = (-b+np.sqrt(sqrt_term))/2\n",
        "    print(f\"Two intersects: t_0={t_0}, t_1={t_1}\")\n",
        "    return ray(t_0, p_0, d), ray(t_1, p_0, d)"
      ],
      "metadata": {
        "id": "Q6A5ZZsuW7Fc"
      },
      "execution_count": null,
      "outputs": []
    },
    {
      "cell_type": "markdown",
      "source": [
        "### Ray-Plane and Ray-Triangle intersection\n"
      ],
      "metadata": {
        "id": "-DqRmNXwabbt"
      }
    },
    {
      "cell_type": "markdown",
      "source": [
        "\n",
        "**Equation of a Plane**\n",
        "\n",
        "\\begin{array}{l}\n",
        "      ax + by + cz + d = 0\\\\\n",
        "      n = \\begin{pmatrix}a,b,c\\end{pmatrix}\\\\\n",
        "      p = (x_0, y_0, z_0)\\\\\n",
        "      n⋅p + d = 0\\\\\n",
        "      d = -(ax_0 + by_0 + xz_0)\\\\\n",
        "      ax + bx + cz - (ax_0 + by_0 + xz_0) = 0\\\\\n",
        "      a(x-x_0) + b(y-y_0) + c(z-z_0) = 0\n",
        "    \\end{array}\n",
        "\n",
        "Where:\n",
        "- n is a normal vector to the plane\n",
        "- p is a point on the plane\n",
        "\n",
        "If n is unknown, 3 points are required to find the equation of the plane. The points must not be in a line:\n",
        "\n",
        "\\begin{array}{l}\n",
        "        \\vec{p_1} = [x_1, y_1, z_1]\\\\\n",
        "        \\vec{p_2} = [x_2, y_2, z_2]\\\\\n",
        "        \\vec{p_3} = [x_3, y_3, z_3]\\\\\n",
        "        \\vec{u} = \\vec{p_1} - \\vec{p_2} = [u_x, u_y, u_z]\\\\\n",
        "        \\vec{v} = \\vec{p_3} - \\vec{p_2} = [v_x, v_y, v_z]\\\\\n",
        "        n = \\vec{v} × \\vec{u}\n",
        "    \\end{array}"
      ],
      "metadata": {
        "id": "_Dd-qB2Wwpyl"
      }
    },
    {
      "cell_type": "code",
      "source": [
        "def plane_with_normal(n, p_0):\n",
        "  a,b,c = n[0], n[1], n[2]\n",
        "  x_0, y_0, z_0 = p_0[0], p_0[1], p_0[2]\n",
        "\n",
        "  x = a\n",
        "  y = b\n",
        "  z = c\n",
        "  d = -np.dot(n, p_0)\n",
        "\n",
        "  print(f\"Equation of Plane: {x}x + {y}y + {z}z + {d} = 0\")\n",
        "  return x, y, z, d\n",
        "\n",
        "def plane_without_normal(p1, p2, p3):\n",
        "  u = p1-p2\n",
        "  v = p3-p2\n",
        "  n = np.cross(u, v)\n",
        "  n = n/np.linalg.norm(n)\n",
        "  return plane_with_normal(n, p1)"
      ],
      "metadata": {
        "id": "IIvao5NBjvfN"
      },
      "execution_count": null,
      "outputs": []
    },
    {
      "cell_type": "code",
      "source": [
        "# Test with Examples\n",
        "n = np.array([0.539, 0.770, 0.342])\n",
        "p_0 = np.array([3, -2, 4])\n",
        "\n",
        "plane_with_normal(n, p_0)\n",
        "\n",
        "p1 = np.array([2, 1.5, 1])\n",
        "p2 = np.array([2, 1.5, 3.5])\n",
        "p3 = np.array([0.5, 1.5, 3.5])\n",
        "\n",
        "plane_without_normal(p1, p2, p3)"
      ],
      "metadata": {
        "colab": {
          "base_uri": "https://localhost:8080/"
        },
        "id": "1bR6fUiylB2I",
        "outputId": "3e7092b4-a0f2-4292-83e0-150117fa6101"
      },
      "execution_count": null,
      "outputs": [
        {
          "output_type": "stream",
          "name": "stdout",
          "text": [
            "Equation of Plane: 0.539x + 0.77y + 0.342z + -1.445 = 0\n",
            "Equation of Plane: 0.0x + 1.0y + 0.0z + -1.5 = 0\n"
          ]
        },
        {
          "output_type": "execute_result",
          "data": {
            "text/plain": [
              "(0.0, 1.0, 0.0, -1.5)"
            ]
          },
          "metadata": {},
          "execution_count": 52
        }
      ]
    },
    {
      "cell_type": "markdown",
      "source": [
        "**Ray-Plane intersection**\n",
        "\n",
        "Ray:\n",
        "\\begin{align}\n",
        "        p_t = p_0 + td_{ray}\n",
        "    \\end{align}\n",
        "\n",
        "Point on a plane:\n",
        "\\begin{array}{l}\n",
        "        n\\cdot p_t + d = 0\\\\\n",
        "        n⋅(p_0 + td_{ray}) + d = 0\\\\\n",
        "        n⋅p_0 + n⋅td_{ray} + d = 0\n",
        "    \\end{array}\n",
        "Solve for t:\n",
        "\\begin{align}\n",
        "        t = -\\frac{(n⋅p_0 + d)}{n⋅d_{ray}}\n",
        "    \\end{align}"
      ],
      "metadata": {
        "id": "vdApg437pl4g"
      }
    },
    {
      "cell_type": "code",
      "source": [
        "def ray_plane_intersection(p_0, d_ray, n, d):\n",
        "  t = -((np.dot(n, p_0)+d)/np.dot(n, d_ray))\n",
        "  return ray(t, p_0, d_ray)"
      ],
      "metadata": {
        "id": "nOPlb2SfrbAS"
      },
      "execution_count": null,
      "outputs": []
    },
    {
      "cell_type": "markdown",
      "source": [
        "**Ray-Triangle intersection**\n",
        "\n",
        "Given a triangle with points p<sub>1</sub>, p<sub>2</sub>, p<sub>3</sub>, check p<sub>t</sub> if is inside the triangle:\n",
        "\n",
        "\\begin{array}{l}\n",
        "        (\\vec{p_2 - p_1} × \\vec{p_t - p_1}) ⋅n ≥ 0\\\\\n",
        "        (\\vec{p_3 - p_2} × \\vec{p_t - p_2}) ⋅n ≥ 0\\\\\n",
        "        (\\vec{p_1 - p_3} × \\vec{p_t - p_3}) ⋅n ≥ 0\\\\\n",
        "    \\end{array}\n",
        "\n",
        "If all conditions are met, p<sub>t</sub> intersects with the triangle."
      ],
      "metadata": {
        "id": "Xspx0hZvsVO_"
      }
    },
    {
      "cell_type": "code",
      "source": [
        "def ray_triangle_intersection(p1, p2, p3, d_ray, n, d,p_0):\n",
        "  p_x,p_y,p_z = ray_plane_intersection(p_0, d_ray, n, d)\n",
        "  p_t = np.array([p_x,p_y,p_z])\n",
        "\n",
        "  if (\n",
        "      (np.dot(np.cross((p2-p1, p_t-p1)),n) >= 0) &\n",
        "      (np.dot(np.cross((p3-p2, p_t-p2)),n) >= 0) &\n",
        "      (np.dot(np.cross((p1-p3, p_t-p3)),n) >= 0)\n",
        "  ):\n",
        "    return p_t\n",
        "  else:\n",
        "    return None"
      ],
      "metadata": {
        "id": "YoBq5AItvG1S"
      },
      "execution_count": null,
      "outputs": []
    },
    {
      "cell_type": "code",
      "source": [
        "d_ray = np.array([-0.996, 0.0857, 0])\n",
        "n = np.array([0.966, 0.259, 0])\n",
        "p_m = np.array([-14, -5.995, 0])\n",
        "\n",
        "# A ray with direction d_ray hits a mirror with normal n.\n",
        "print(f\"A ray with direction: {d_ray} hit a mirror at point {p_m} with the normal {n}.\")\n",
        "d_ray2 = specular_reflection(d_ray, n)\n",
        "print(f\"The ray is reflected in the direction {d_ray2} from point {p_m}\")\n",
        "n_slab = np.array([-1, 0 ,0])\n",
        "v4 = np.array([-10, 2, -2])\n",
        "x, y, z, d = plane_with_normal(n_slab, v4)\n",
        "p_3 = ray_plane_intersection(p_m, d_ray2, n_slab, d)\n",
        "theta_i = np.arccos(np.dot(d_ray2, -n_slab))\n",
        "print(f\"The reflected ray hits a slab on the above plane. The ray hits the slab at {p_3} with an angle of {theta_i}rads\")\n",
        "ior_slab = 1.81\n",
        "ior_air = 1.0\n",
        "theta_r = np.arcsin((ior_air/ior_slab) * np.sin(theta_i))\n",
        "d_ray3 = np.array([np.cos(theta_r), np.sin(theta_r), 0])\n",
        "print(f\"Using snell's law, the ray is refrected in the slab travelling at {theta_r} degrees, the new direction is {d_ray3}\")\n",
        "p_4 = p_3 + np.array([4, 4*np.tan(theta_r), 0])\n",
        "print(f\"The ray then should leave the slab at point {p_4} and return to it's previous direction of {d_ray2}\")\n",
        "s_c = np.array([10, 5, -3])\n",
        "s_r = 5\n",
        "print(\"Ray-Sphere intersection:\")\n",
        "ray_sphere_intersection(p_4, d_ray2, s_c[0], s_c[1], s_c[2], s_r)"
      ],
      "metadata": {
        "colab": {
          "base_uri": "https://localhost:8080/"
        },
        "id": "lb78hwl1pYfq",
        "outputId": "a45c1339-e8d5-4e24-fa84-69f105bd6c41"
      },
      "execution_count": null,
      "outputs": [
        {
          "output_type": "stream",
          "name": "stdout",
          "text": [
            "A ray with direction: [-0.996   0.0857  0.    ] hit a mirror at point [-14.     -5.995   0.   ] with the normal [0.966 0.259 0.   ].\n",
            "The ray is reflected in the direction [0.8199635  0.57258876 0.        ] from point [-14.     -5.995   0.   ]\n",
            "Equation of Plane: -1x + 0y + 0z + -10 = 0\n",
            "The reflected ray hits a slab on the above plane. The ray hits the slab at (-10.0, -3.2017597432291756, 0.0) with an angle of 0.609449075080123rads\n",
            "Using snell's law, the ray is refrected in the slab travelling at 0.3217759180535049 degrees, the new direction is [0.94867528 0.31625183 0.        ]\n",
            "The ray then should leave the slab at point [-6.         -1.86831368  0.        ] and return to it's previous direction of [0.8199635  0.57258876 0.        ]\n",
            "Ray-Sphere intersection:\n",
            "a = 1.0001980353343753, b = -34.104270504441104, c = 287.17373282856414, sqrt(b^2 - 4ac) = 14.178853141016816\n",
            "Two intersects: t_0=15.169394355215815, t_1=18.93487614922529\n"
          ]
        },
        {
          "output_type": "execute_result",
          "data": {
            "text/plain": [
              "((6.438349694450762, 6.817511092004322, 0.0),\n",
              " (9.525907326959242, 8.97358366056, 0.0))"
            ]
          },
          "metadata": {},
          "execution_count": 119
        }
      ]
    },
    {
      "cell_type": "code",
      "source": [
        "n_slab = np.array([-1, 0 ,0])\n",
        "v4 = np.array([-10, 2, -2])\n",
        "x, y, z, d = plane_with_normal(n_slab, v4)\n",
        "d_ray2 = np.array([0.820, -0.572, 0])\n",
        "p_0 = np.array([-12, -4.6, 0])\n",
        "p_3 = ray_plane_intersection(p_0, d_ray2, n_slab, d)\n",
        "print(f\"The reflected ray hits a slab on the above plane. The ray hits the slab at {p_3} with an angle of {theta_i}rads\")\n",
        "ior_slab = 1.31\n",
        "ior_air = 1.0\n",
        "theta_r = np.arcsin((ior_air/ior_slab) * np.sin(theta_i))\n",
        "d_ray3 = np.array([np.cos(theta_r), np.sin(theta_r), 0])\n",
        "print(f\"Using snell's law, the ray is refrected in the slab travelling at {theta_r} degrees, the new direction is {d_ray3}\")\n",
        "p_4 = p_3 + np.array([4, 4*np.tan(theta_r), 0])\n",
        "print(f\"The ray then should leave the slab at point {p_4} and return to it's previous direction of {d_ray2}\")\n",
        "s_c = np.array([10, 5, -3])\n",
        "s_r = 5\n",
        "print(\"Ray-Sphere intersection:\")\n",
        "ray_sphere_intersection(p_4, d_ray2, s_c[0], s_c[1], s_c[2], s_r)"
      ],
      "metadata": {
        "colab": {
          "base_uri": "https://localhost:8080/"
        },
        "id": "4L3U5IzTr4NL",
        "outputId": "13f839f4-a809-417f-f208-5197d2bc3ddc"
      },
      "execution_count": null,
      "outputs": [
        {
          "output_type": "stream",
          "name": "stdout",
          "text": [
            "Equation of Plane: -1x + 0y + 0z + -10 = 0\n",
            "The reflected ray hits a slab on the above plane. The ray hits the slab at (-10.0, -5.995121951219511, 0.0) with an angle of 0.609449075080123rads\n",
            "Using snell's law, the ray is refrected in the slab travelling at 0.45221464065639344 degrees, the new direction is [0.8994816  0.43695863 0.        ]\n",
            "The ray then should leave the slab at point [-6.         -4.05196433  0.        ] and return to it's previous direction of [ 0.82  -0.572  0.   ]\n",
            "Ray-Sphere intersection:\n",
            "a = 0.9995839999999998, b = -15.884552805252149, c = 321.9380582510232, sqrt(b^2 - 4ac) = -1034.8975102523189\n",
            "No intersect\n"
          ]
        }
      ]
    },
    {
      "cell_type": "markdown",
      "source": [
        "## Ray Tracing and Path Tracing"
      ],
      "metadata": {
        "id": "CxigJ-jUwXmt"
      }
    },
    {
      "cell_type": "markdown",
      "source": [
        "**Ray casting:** The process of finding the closest object along a ray. If a ray hits a point, the pixel colour is estimated using shading models.\n",
        "\n",
        "**Phong shading:** The final colours is composed of three components:\n",
        "\n",
        "- Ambient colour\n",
        "- Diffuse colour\n",
        "- Specular colour\n",
        "\n",
        "\\begin{align}\n",
        "          L_r = k_aI_a + \\left[\n",
        "          \\frac{k_d}{\\pi} (\\vec{n} ⋅ \\vec{v_i}) + k_s \\frac{m+2}{2\\pi} (\\vec{v_r} ⋅ \\vec{r_{vi}})^m\n",
        "          \\right] \\frac{L_i}{r^2}\n",
        "    \\end{align}\n",
        "\n",
        "**Shading with sRGB Lambertian Reflectance**\n",
        "\n",
        "where:\n",
        "- K<sub>a</sub>, K<sub>d</sub>, K<sub>s</sub> : ambient, diffuse and specular coefficients.\n",
        "- I<sub>a</sub> : ambient colour\n",
        "- L<sub>i</sub> : incoming radiance colour\n",
        "- ρ<sub>d</sub> : diffuse albedo colour\n",
        "- θ<sub>i</sub> : incoming radiance angle\n",
        "\n",
        "Compute the Lambertian reflectance for each RGB component channel, ch.\n",
        "\n",
        "\\begin{array}{l}\n",
        "          L_{r,ch} = k_aI_{a,ch} + \\frac{ρ_{d,ch}}{\\pi} (\\vec{n} ⋅ \\vec{v_i}) \\frac{L_{i,ch}}{r^2}\\\\\n",
        "          (\\vec{n} ⋅ \\vec{v_i}) = sinθ_i\n",
        "    \\end{array}\n",
        "\n"
      ],
      "metadata": {
        "id": "VtGxDG-bwoAH"
      }
    },
    {
      "cell_type": "code",
      "source": [
        "def RGB_lambertian_reflectance(i_a, k_a, L_i, rho_d, theta_i, r):\n",
        "  L_r = np.empty((3))\n",
        "  for ch in range(3):\n",
        "    ambient_component = i_a[ch]*k_a\n",
        "    diffuse_component = (rho_d[ch]/np.pi)*np.sin(np.deg2rad(theta_i))*(L_i[ch]/np.square(r))\n",
        "    L_r[ch] = ambient_component + diffuse_component\n",
        "  return L_r"
      ],
      "metadata": {
        "id": "eANFh2QB5HRn"
      },
      "execution_count": null,
      "outputs": []
    },
    {
      "cell_type": "code",
      "source": [
        "# Shading with sRGB example with Lambertian Reflectance\n",
        "i_a = np.array([0.1, 0.2, 0.3])\n",
        "k_a = 0.15\n",
        "L_i = np.array([0.4, 0.15, 0.1])\n",
        "rho_d = np.array([0.1, 0.35, 0.1])\n",
        "theta_i = 30\n",
        "r = 1\n",
        "\n",
        "RGB_lambertian_reflectance(i_a, k_a, L_i, rho_d, theta_i, r)"
      ],
      "metadata": {
        "colab": {
          "base_uri": "https://localhost:8080/"
        },
        "id": "rvwB9d1l648b",
        "outputId": "07f5f3a7-b73d-42e4-f0a2-3b7ec88bc0de"
      },
      "execution_count": null,
      "outputs": [
        {
          "output_type": "execute_result",
          "data": {
            "text/plain": [
              "array([0.0213662 , 0.03835563, 0.04659155])"
            ]
          },
          "metadata": {},
          "execution_count": 56
        }
      ]
    },
    {
      "cell_type": "markdown",
      "source": [
        "### Monte Carlo Integration"
      ],
      "metadata": {
        "id": "HX7fhFSgFe3A"
      }
    },
    {
      "cell_type": "markdown",
      "source": [
        "### Sampling the Hemisphere"
      ],
      "metadata": {
        "id": "-j31x--zFjI0"
      }
    },
    {
      "cell_type": "markdown",
      "source": [
        "**Uniform directional sampling - rejection method**\n",
        "\n",
        "To generate a sample:\n",
        "1. Generate 3 random numbers, (x,y,z) in [-1, 1]\n",
        "2. Compute s = x<sup>2</sup> + y<sup>2</sup> + z<sup>2</sup>, reject if s > 1\n",
        "3. Normalise (x,y,z) to get a ray r.\n",
        "4. If r⋅n < 0: flip the direction of r.\n",
        "\n",
        "**Uniform directional sampling - inversion method**\n",
        "\n",
        "To generate a sample:\n",
        "1. Generate Φ in [0, 2π]\n",
        "2. Generate z in [0, 1]\n",
        "3. Set θ = cos<sup>-1</sup>z\n",
        "4. r = coordinates (θ, Φ)\n",
        "5. Express r in cartesian coordinates as: r = (x,y,z) = (sinθcosΦ, sinθsinΦ, cosθ)\n",
        "6. r us aligned with the local surface normal, rotate r using the rotation matrix R:\n",
        "\n",
        "\\begin{array}{l}\n",
        "        R = \\begin{pmatrix}\n",
        "        cosαcosβ & -sinβ & sinαcosβ\\\\\n",
        "        sinβcosα & cosβ & sinαsinβ\\\\\n",
        "        -sinα & 0 & cosα\n",
        "        \\end{pmatrix}\\\\\n",
        "        r' = r × R\n",
        "    \\end{array}\n",
        "\n",
        "Where:\n",
        "- α is the angle between the sphere tangent and xy component of r\n",
        "- β is the angle between the normal and r\n",
        "\n",
        "\\begin{array}{l}\n",
        "        α = cos^{-1}r_z\\\\\n",
        "        β = tan^{-2}(r_x,r_y)\n",
        "    \\end{array}"
      ],
      "metadata": {
        "id": "5srgB9cMMtPA"
      }
    },
    {
      "cell_type": "markdown",
      "source": [
        "### Specular BRDFs"
      ],
      "metadata": {
        "id": "6KCHeTv2dSqR"
      }
    },
    {
      "cell_type": "markdown",
      "source": [
        "**Importance sampling for Phong model**\n",
        "\n",
        "Phong model - energy conservative:\n",
        "\n",
        "\\begin{align}\n",
        "        f_r(\\vec{v_i},\\vec{v_r}) = \\frac{k_d}{\\pi} + k_s \\frac{m+2}{2π}(\\vec{v_i}⋅\\vec{r_{vi}})^m\n",
        "    \\end{align}\n",
        "\n",
        "To generate a sample:\n",
        "1. set (v<sub>i</sub>,v<sub>r</sub>) to cosδ and sample for δ\n",
        "2. δ = cos<sup>-1</sup>(Z<sup>1/m+1</sup>) to account for the exponent m in the BRDF.\n",
        "3. Generate Φ<sub>δ</sub> in [0,2π]\n",
        "4. Convert to cartesian coordinates(x,y,z)\n",
        "5. This time the direction must be aligned with r<sub>vi</sub>"
      ],
      "metadata": {
        "id": "7MC-i5fadVd3"
      }
    },
    {
      "cell_type": "markdown",
      "source": [
        "# Topic 4"
      ],
      "metadata": {
        "id": "uQ-b3aahvDyV"
      }
    },
    {
      "cell_type": "markdown",
      "source": [
        "## Geometric Vision"
      ],
      "metadata": {
        "id": "Jwr_jo0KdgLC"
      }
    },
    {
      "cell_type": "markdown",
      "source": [
        "### Point Clouds"
      ],
      "metadata": {
        "id": "RKgYAsx7d5Rf"
      }
    },
    {
      "cell_type": "markdown",
      "source": [
        "**3D Representation: Point Clouds**\n",
        "\n",
        "A point cloud is an unstructured set of 3-dimensional coordinates:\n",
        "\n",
        "\\begin{array}{l}\n",
        "        P = \\{v_1,...,v_n\\}, \\text{where } v_i ∈ \\mathbb{R}^3\n",
        "    \\end{array}\n",
        "\n",
        "**3D Representation: Depth maps**\n",
        "\n",
        "A depth map respresents a 3D scene from the perspective of a camera.\n",
        "\n",
        "For each pixel (x,y), the the w value of the (u,v,w) point where a ray through that pixel intersects the scene.\n",
        "\n",
        "A depth map can be converted to a point cloud by projecting along each ray to provide a 3D world point:\n",
        "\n",
        "\\begin{align}\n",
        "        W(x,y) = \\begin{pmatrix}\n",
        "        \\frac{x-c_x}{f}w(x,y) \\\\\n",
        "        \\frac{y-c_y}{f}w(x,y) \\\\\n",
        "        w(x,y)\n",
        "        \\end{pmatrix}\n",
        "    \\end{align}"
      ],
      "metadata": {
        "id": "kHo17VZKd7qS"
      }
    },
    {
      "cell_type": "markdown",
      "source": [
        "### Structure from Motion"
      ],
      "metadata": {
        "id": "0eIj-LNfbXep"
      }
    },
    {
      "cell_type": "markdown",
      "source": [
        "View a fixed scene or object *I* from multiple positions *C<sub>i</sub>* of a camera. Use perspective viewing geometry to estimate a 3D model.\n",
        "\n",
        "Unknowns:\n",
        "- 3D position, w<sub>i</sub> ∈ ℝ<sup>3</sup> of *I* world points\n",
        "- Pose, R, t, of each camera C\n",
        "\n",
        "Knowns:\n",
        "- Intrinsic camera matrix K\n",
        "- Position X in each camera images that corresponds to the same world point.\n",
        "\n",
        "Typical Algorithm:\n",
        "\n",
        "1. Choose an initial pair of images.\n",
        "2. Detect and match features, fit fundamental matrix to matches with RANSAC, decompose fundamental matrix to get relative pose between cameras.\n",
        "3. Triangulate matched features to get initial 3D world poisitions of features.\n",
        "4. While there are still new views to add:\n",
        "  - Extract features from new image and match to previous views.\n",
        "  - Solve perspective projection to compute pose of new camera view to existing world model.\n",
        "  - Triangulate position of new features marched for the first time.\n",
        "  - Bundle adjust over all camera poses and 3D world points."
      ],
      "metadata": {
        "id": "y8Md1LFqbfS_"
      }
    },
    {
      "cell_type": "markdown",
      "source": [
        "### Binocular Stereo"
      ],
      "metadata": {
        "id": "CwXQk6_SeKkX"
      }
    },
    {
      "cell_type": "markdown",
      "source": [
        "Objective: reconstruct a dense depth map from a pair of overlapping images. For every pixel in the left image, find a match in the right image allowing triangulation of every pixel.\n",
        "\n",
        "Pipeline:\n",
        "1. Calibrate by computing \"relative\" pose between each camera C to convert image coordinates from C<sub>1</sub> to C<sub>2</sub>.\n",
        "2. Warp images using homographies such that the match for a pixel will lie on the same row in the other image.\n",
        "3. For each pixel in the left image, search along row of pixel in the right image to find the best match.\n",
        "4. The desparity of x'<sub>c1</sub> - x'<sub>c2</sub> is inversely proportional to the depth w.\n",
        "  - x' is the warped x component from pixel X of the image I.\n",
        "  - x'<sub>c1</sub>, x'<sub>c2</sub> are the matching pixels from the warped image along the same y-axis."
      ],
      "metadata": {
        "id": "aMDh-fHNfE2s"
      }
    },
    {
      "cell_type": "markdown",
      "source": [
        "**Multiview Stereo**\n",
        "\n",
        "Assume structure-from-motion provides estimates for intrinsic and extrinsic camera parameters.\n",
        "\n",
        "**Shape-from-silhouette**\n",
        "\n",
        "1. Compute binary foreground images for each viewpoint. (Mask the foreground)\n",
        "2. Divide object space into 3D grid of voxels.\n",
        "3. Each voxel is intesected with each silhouette volume.\n",
        "4. Only voxels that lie inside all silouette volumes remain part of the final shape.\n",
        "\n",
        "The shape that remains is known as the visual hull.\n",
        "\n",
        "**Space carving**\n",
        "\n",
        "If a voxel is visible in two or more images, it should appear the same in all images.\n",
        "\n",
        "**Pollefeys and Van Gool algorithm**\n",
        "\n",
        "1. Apply structure-from-motuon to image collection\n",
        "2. For each pair of overlapping images, apply binocular stereo to get dense depth map.\n",
        "3. Project each depth map to a point cloud\n",
        "4. Merge point clouds\n",
        "5. Reconstruct smooth surface from point clouds."
      ],
      "metadata": {
        "id": "N9hC3Tu0jHVS"
      }
    },
    {
      "cell_type": "markdown",
      "source": [
        "## Photometric Methods"
      ],
      "metadata": {
        "id": "Im53ufq9saWn"
      }
    },
    {
      "cell_type": "markdown",
      "source": [
        "**Interaction between light and surface**\n",
        "\n",
        "- Light of radiance L<sub>i</sub> comes from a light source at an incoming direction θ<sub>i</sub>\n",
        "- It sends out a ray of radiance L<sub>r</sub> in the outgoing direction θ<sub>r</sub>\n",
        "\n",
        "\\begin{align}\n",
        "        L_r = f_r(\\vec{v_i},\\vec{v_r})L_i cosθ_i\n",
        "    \\end{align}\n",
        "- L<sub>r</sub> = Output radiance along θ<sub>r</sub>\n",
        "- L<sub>i</sub> = Incoming irradiance along θ<sub>i</sub>\n",
        "- f<sub>r</sub>(v<sub>i</sub>,v<sub>r</sub>) = BRDF\n",
        "\n",
        "Special case 1: Perfect mirror\n",
        "\\begin{align}\n",
        "        f_r(\\vec{v_i},\\vec{v_r})= 0 \\text{ unless } θ_i = \\theta_r\n",
        "    \\end{align}\n",
        "- Also called \"specular surfaces\"\n",
        "- Reflects light in a single, particular direction.\n",
        "\n",
        "Special case 2: Matte surface:\n",
        "\\begin{align}\n",
        "        f_r(\\vec{v_i},\\vec{v_r})= ρ_0\n",
        "    \\end{align}\n",
        "- Also called \"Lambertian surfaces\"\n",
        "- Reflected light is independent of viewing direction\n",
        "\n",
        "**Lambertian Surfaces**\n",
        "\\begin{align}\n",
        "        L_r = ρL_i cosθ_i = ρL_i(v_i⋅v_r)\n",
        "    \\end{align}\n",
        "- ρ is the albedo, represents colour/brightness.\n",
        "\n",
        "Intrinsic Image Decomposition:\n",
        "\\begin{align}\n",
        "        I(x,y) = ρ_{(x,y)}L_i(v_i⋅v_r)_{(x,y)}\n",
        "    \\end{align}\n",
        "Where:\n",
        "- ρ<sub>(x,y)</sub> = Reflectance image\n",
        "- Li(v<sub>i</sub>⋅v<sub>r</sub>)<sub>(x,y)</sub> = Shading image\n",
        "\n",
        "**Photometric Stereo**\n",
        "\n",
        "Recovery from multiple images:\n",
        "\n",
        "\\begin{align}\n",
        "        I(x,y) = ρ_{(x,y)}L_i(v_i⋅v_r)_{(x,y)}\n",
        "    \\end{align}\n",
        "\n",
        "- Represents an equation in the albedo and normals\n",
        "- Multiple images give constraints on albedo and normals\n",
        "\n",
        "Photometric stereo is a technique for estimating surface orientation of objects by observing that object under different lighting conditions.\n",
        "\n",
        "**The Math**\n",
        "\n",
        "\\begin{array}{c}\n",
        "        I_1 = L_1^TG\\\\\n",
        "        I_2 = L_2^TG\\\\\n",
        "        ⋮\\\\\n",
        "        I_n = L_n^TG\n",
        "    \\end{array}\n",
        "- I = vector of intensities\n",
        "- L = vector of lighting directions\n",
        "- G = vector of unknowns\n",
        "\n",
        "Solvable by least squares."
      ],
      "metadata": {
        "id": "8mYSWIaRse8a"
      }
    },
    {
      "cell_type": "markdown",
      "source": [
        "### Photometric Stereo\n",
        "\n",
        "**Photometric stereo and BRDFs**\n",
        "\n",
        "Considering only reflected light, radiance towards a viewer:\n",
        "\n",
        "\\begin{align}\n",
        "        L_r(v_r) = ∫_{Ω_+}f_r(v_i,v_r)L_i(v_i)cosθ_idv_i\n",
        "    \\end{align}\n",
        "This describes an arbitarily complicated illumination where L<sub>i</sub>(v<sub>i</sub>) varies for every possible direction.\n",
        "\n",
        "Simpler with a single point source with radiance L<sub>i</sub> coming from direction v<sub>i</sub>:\n",
        "\n",
        "\\begin{align}\n",
        "        L_r(v_r) = f_r(v_i,v_r)L_icosθ_i\n",
        "    \\end{align}\n",
        "\n",
        "Simplest possible BRDF is perfect diffuse (Lambertian) reflector:\n",
        "\n",
        "\\begin{align}\n",
        "        L_r(v_r) = \\frac{ρ_d}{\\pi}\n",
        "    \\end{align}\n",
        "\n",
        "We can roll all of the constants into a scale factor on s:\n",
        "\n",
        "\\begin{align}\n",
        "        s = \\frac{L_i}{\\pi}v_i\n",
        "    \\end{align}\n",
        "\n",
        "- ρ<sub>d</sub> ∈ [0,1] is the diffuse albedo\n",
        "  - 0 = perfect black\n",
        "  - 1 = perfect white\n",
        "  - Usually RGB dependent per channel = \"colour\" of an object.\n",
        "\n",
        "**Lambertian Photometric Stereo**\n",
        "\n",
        "Objective: recover the surface normal n and diffuse albedo ρ<sub>d</sub> for each pixel\n",
        "\n",
        "1. Observe the same object n ≥ 3 times, each with a point light source from directions s<sub>i</sub>\n",
        "2. For each pixel, observe image intensity I<sub>i</sub>\n",
        "3. Each image intensity give the linear equation:\n",
        "\\begin{align}\n",
        "        I_i = s_i^⊤x\n",
        "    \\end{align}\n",
        "    - unknown vector x = ρ<sub>d</sub>n\n",
        "4. Combine all observations for one pixel into a linear system of equations:\n",
        "\\begin{align}\n",
        "        \\begin{pmatrix}I_1\\\\⋮\\\\I_n\\end{pmatrix}=\n",
        "        \\begin{pmatrix}s_1^⊤\\\\⋮\\\\s_n^T\\end{pmatrix}x\n",
        "    \\end{align}\n",
        "5. Solve with linear least squares.\n",
        "6. ρ<sub>d</sub> = ||x||\n",
        "7. n = x/||x||"
      ],
      "metadata": {
        "id": "g3SmRJSMb3AB"
      }
    },
    {
      "cell_type": "code",
      "source": [
        "def lambertian_photometric_stereo(S, images, mask):\n",
        "  '''\n",
        "  S = light source directions for each image\n",
        "  images = The images to compute\n",
        "  '''\n",
        "  nimgs = len(images)\n",
        "  img_h = images.shape[1]\n",
        "  img_w = images.shape[2]\n",
        "  Sscaled = np.zeros((20, 3))\n",
        "  albedo = np.zeros((img_h, img_w))\n",
        "  normal = np.zeros((img_h, img_w, 3))\n",
        "\n",
        "  for i in range(nimgs):\n",
        "    S[i,:] = S[i,:] / np.linalg.norm(S[i,:])\n",
        "\n",
        "  for i in range(nimgs):\n",
        "    intensities = images[i,:,:]\n",
        "    intensities = intensities[mask]\n",
        "    maxval = np.percentile(intensities, 99)\n",
        "    Sscaled[i,:] = S[i,:]*maxval\n",
        "\n",
        "  for row in range(img_h):\n",
        "    for col in range(img_w):\n",
        "      if mask[row, col]:\n",
        "        I = images[:, row, col]\n",
        "        x = S_plus @ I\n",
        "        albedo[row, col] = np.linalg.norm(x)\n",
        "        normal[row, col, :] = x / albedo[row,col]\n",
        "\n",
        "  return albedo, normal\n"
      ],
      "metadata": {
        "id": "tf9tY8_Iilvm"
      },
      "execution_count": null,
      "outputs": []
    },
    {
      "cell_type": "markdown",
      "source": [
        "### Analysis-by-synthesis\n"
      ],
      "metadata": {
        "id": "4JjTSe5M9NQU"
      }
    },
    {
      "cell_type": "markdown",
      "source": [
        "\n",
        "Recover per scene from n ≥ 1 images:\n",
        "\n",
        "\\begin{array}{cl}\n",
        "        min(Θ) \\sum^n_{i=1} ||render(Θ_i) - I_i|| & Θ=\\{Θ_1,...,Θ_n\\}\n",
        "    \\end{array}\n",
        "\n",
        "Where Θ contains:\n",
        "- Geometry\n",
        "- Material properties (parameters of a BRDF)\n",
        "- Camera intrinsic and extrinsic parameters\n",
        "- Illumination\n",
        "\n",
        "There can be an infinite combination of solutions to describe a scene. Need to constrain the problem.\n",
        "\n",
        "- Each variable to be recovered is an optimisation variable.\n",
        "- Iteratively adjust to reduce a loss.\n",
        "- Non-linear optimisation problem: Need to be able to compute derivatives.\n"
      ],
      "metadata": {
        "id": "BsC2TXPlD0mX"
      }
    },
    {
      "cell_type": "markdown",
      "source": [
        "### Differentiable rendering"
      ],
      "metadata": {
        "id": "mtCtgkJ-ACsj"
      }
    },
    {
      "cell_type": "markdown",
      "source": [
        "Use soft rasterisation to transform discrete problems to differentiable problems that can calculate a loss."
      ],
      "metadata": {
        "id": "xwJt20LTBe89"
      }
    },
    {
      "cell_type": "markdown",
      "source": [
        "### Deep learning for Inverse Rendering"
      ],
      "metadata": {
        "id": "5b1cMtzaDuRQ"
      }
    },
    {
      "cell_type": "markdown",
      "source": [
        "- A deep neural network is just a function, f.\n",
        "- The behaviour of the function depends on some parameters Θ. The function is written as f<sub>Θ</sub>\n",
        "\n"
      ],
      "metadata": {
        "id": "so8xHQEpD7VA"
      }
    },
    {
      "cell_type": "markdown",
      "source": [
        "# Topic 5"
      ],
      "metadata": {
        "id": "mbhI2kAQFChc"
      }
    },
    {
      "cell_type": "markdown",
      "source": [
        "## Participating Media"
      ],
      "metadata": {
        "id": "I4T_lDFmFFnE"
      }
    },
    {
      "cell_type": "markdown",
      "source": [
        "### Light scattering participating media\n",
        "\n",
        "- A participating medium can be modelled as a collection of microscopic particles, randomly located within the medium.\n",
        "- In lighting simulations, we consider the probabilistic behaviour as light travels through the medium, rather than representing each individual particle.\n",
        "- The probability of interaction between light and particles can be described using the extinction coefficient σ<sub>t</sub> of the medium, measured in 1/m.\n",
        "\n",
        "**Absorption and out-scattering**\n",
        "\n",
        "Two kinds of interactions decrease the radiance along a ray:\n",
        "1. The photon may be absorbed by the particle:\n",
        "\\begin{align}\n",
        "        (\\vec{v}·∇_a)L(x,\\vec{v}) = -σ_a(x)L(x,\\vec{v})\n",
        "    \\end{align}\n",
        "  - σ<sub>a</sub> : absorption coefficient = probability of absorption\n",
        "  \n",
        "2. The photon may be scattered in another direction:\n",
        "\\begin{align}\n",
        "        (\\vec{v}·∇_s)L(x,\\vec{v}) = -σ_s(x)L(x,\\vec{v})\n",
        "    \\end{align}\n",
        "  - σ<sub>s</sub> : absorption coefficient = probability of scattering\n",
        "\n",
        "Both interactions lead to a change in radiance along a ray.\n",
        "\n",
        "σ<sub>a</sub> + σ<sub>s</sub> = σ<sub>t</sub>\n",
        "\n",
        "**Emission and in-scattering**\n",
        "\n",
        "Two kinds of interactions increase the radiance along a ray:\n",
        "1. A medium can emit radiance:\n",
        "\\begin{align}\n",
        "        (\\vec{v}·∇_e)L(x,\\vec{v}) = σ_a(x)L_e(x,\\vec{v})\n",
        "    \\end{align}\n",
        "\n",
        "2. Increase in radiance due to in-scattering of radiance from other directions:\n",
        "\\begin{align}\n",
        "        (\\vec{v}·∇_s)L(x,\\vec{v}) = σ_s(x)L_{in}(x,\\vec{v})\n",
        "    \\end{align}\n",
        "\n",
        "The ratio σ<sub>s</sub>/σ<sub>t</sub> = scattering albedo. Represents probability of a photon scattering at a particular location, x, in the medium.\n",
        "\n",
        "**Radiative transfer**\n",
        "\n",
        "To quantify the total change in radiance along the ray at a given position x within the medium, solve the radiative transfer equation:\n",
        "\n",
        "\\begin{align}\n",
        "        (\\vec{v}·∇)L(x,\\vec{v}) = -σ_a(x)L(x,\\vec{v}) + -σ_s(x)L(x,\\vec{v}) + σ_a(x)L_e(x,\\vec{v}) + σ_s(x)L_{in}(x,\\vec{v})\n",
        "    \\end{align}\n",
        "\n",
        "**The phase function**\n",
        "\n",
        "The role of the phase function is similar to the BRDF in the context of participating media. It describes where light travels after hitting a particle within the medium.\n",
        "\n",
        "\\begin{align}\n",
        "        p(x, \\vec{v_i}, \\vec{v_s})\n",
        "    \\end{align}\n",
        "\n",
        "**Henyey-Greenstein (HG) Phase Function**\n",
        "\n",
        "\\begin{align}\n",
        "        p_{HG}(x,\\theta) = \\frac{1-g^2}{4\\pi(1+g^2-2gcos\\theta)^{1.5}}\n",
        "    \\end{align}\n",
        "- g = 0 corresponds to isotropic scattering (equal in all directions)\n",
        "- 0 < g ≤ 1 corresponds to forward scattering\n",
        "- -1 ≤ g < 0 corresponds to backward scattering\n",
        "\n"
      ],
      "metadata": {
        "id": "SuVRL9i8FxBw"
      }
    },
    {
      "cell_type": "markdown",
      "source": [
        "### Lambertian surface reflection"
      ],
      "metadata": {
        "id": "sMYxKTHbWk2b"
      }
    },
    {
      "cell_type": "markdown",
      "source": [
        "**Surface normal from spherical gradients**\n",
        "\n",
        "Images under 3 different spherical lighting directions, x, y, z.\n",
        "\n",
        "Lambertian reflectance:\n",
        "\n",
        "\\begin{align}\n",
        "      R(\\vec{ω}, \\vec{n}) = ρF(\\vec{ω}, \\vec{n})\n",
        "\\end{align}\n",
        "\n",
        "The reflectance L<sub>i</sub> from a view direction v under spherical illumincation P<sub>i</sub> is:\n",
        "\n",
        "\\begin{array}{l}\n",
        "      L_i(\\vec{v}) = \\int_Ω P_i(\\vec{ω})R(\\vec{ω}, \\vec{n})d\\vec{ω})\\\\\n",
        "      P_x(\\vec{ω}) = ω_x\n",
        "\\end{array}\n",
        "\n",
        "R does not depend on the first two components of ω, hence:\n",
        "\n",
        "\\begin{array}{l}\n",
        "        L_x(\\vec{v}) = n_x\\left( \\frac{2\\pi\\rho}{3} \\right)\\\\\n",
        "        L_y(\\vec{v}) = n_y\\left( \\frac{2\\pi\\rho}{3} \\right)\\\\\n",
        "        L_z(\\vec{v}) = n_z\\left( \\frac{2\\pi\\rho}{3} \\right)\\\\\n",
        "    \\end{array}"
      ],
      "metadata": {
        "id": "6BXmqwc6WoQN"
      }
    }
  ]
}